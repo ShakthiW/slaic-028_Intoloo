{
 "cells": [
  {
   "cell_type": "markdown",
   "id": "fce1f055-f51d-4da8-9802-93c932ba32b8",
   "metadata": {},
   "source": [
    "## Classifying Tweets Using OpenAI API"
   ]
  },
  {
   "cell_type": "code",
   "execution_count": 1,
   "id": "2f9d0179-5565-4df1-859e-3a89ff0b48bb",
   "metadata": {
    "collapsed": true,
    "jupyter": {
     "outputs_hidden": true
    },
    "tags": []
   },
   "outputs": [
    {
     "name": "stdout",
     "output_type": "stream",
     "text": [
      "Collecting openai==0.27.0\n",
      "  Downloading openai-0.27.0-py3-none-any.whl.metadata (13 kB)\n",
      "Requirement already satisfied: requests>=2.20 in /Users/shakthiraveen/anaconda3/lib/python3.11/site-packages (from openai==0.27.0) (2.31.0)\n",
      "Requirement already satisfied: tqdm in /Users/shakthiraveen/anaconda3/lib/python3.11/site-packages (from openai==0.27.0) (4.66.2)\n",
      "Requirement already satisfied: aiohttp in /Users/shakthiraveen/anaconda3/lib/python3.11/site-packages (from openai==0.27.0) (3.9.3)\n",
      "Requirement already satisfied: charset-normalizer<4,>=2 in /Users/shakthiraveen/anaconda3/lib/python3.11/site-packages (from requests>=2.20->openai==0.27.0) (2.0.4)\n",
      "Requirement already satisfied: idna<4,>=2.5 in /Users/shakthiraveen/anaconda3/lib/python3.11/site-packages (from requests>=2.20->openai==0.27.0) (3.4)\n",
      "Requirement already satisfied: urllib3<3,>=1.21.1 in /Users/shakthiraveen/anaconda3/lib/python3.11/site-packages (from requests>=2.20->openai==0.27.0) (1.26.16)\n",
      "Requirement already satisfied: certifi>=2017.4.17 in /Users/shakthiraveen/anaconda3/lib/python3.11/site-packages (from requests>=2.20->openai==0.27.0) (2024.2.2)\n",
      "Requirement already satisfied: aiosignal>=1.1.2 in /Users/shakthiraveen/anaconda3/lib/python3.11/site-packages (from aiohttp->openai==0.27.0) (1.2.0)\n",
      "Requirement already satisfied: attrs>=17.3.0 in /Users/shakthiraveen/anaconda3/lib/python3.11/site-packages (from aiohttp->openai==0.27.0) (22.1.0)\n",
      "Requirement already satisfied: frozenlist>=1.1.1 in /Users/shakthiraveen/anaconda3/lib/python3.11/site-packages (from aiohttp->openai==0.27.0) (1.3.3)\n",
      "Requirement already satisfied: multidict<7.0,>=4.5 in /Users/shakthiraveen/anaconda3/lib/python3.11/site-packages (from aiohttp->openai==0.27.0) (6.0.2)\n",
      "Requirement already satisfied: yarl<2.0,>=1.0 in /Users/shakthiraveen/anaconda3/lib/python3.11/site-packages (from aiohttp->openai==0.27.0) (1.8.1)\n",
      "Downloading openai-0.27.0-py3-none-any.whl (70 kB)\n",
      "Installing collected packages: openai\n",
      "  Attempting uninstall: openai\n",
      "    Found existing installation: openai 0.28.0\n",
      "    Uninstalling openai-0.28.0:\n",
      "      Successfully uninstalled openai-0.28.0\n",
      "\u001b[31mERROR: pip's dependency resolver does not currently take into account all the packages that are installed. This behaviour is the source of the following dependency conflicts.\n",
      "llama-index-legacy 0.9.48 requires openai>=1.1.0, but you have openai 0.27.0 which is incompatible.\n",
      "pyautogen 0.2.32 requires openai>=1.3, but you have openai 0.27.0 which is incompatible.\n",
      "llama-index-core 0.10.27 requires openai>=1.1.0, but you have openai 0.27.0 which is incompatible.\n",
      "llama-index-agent-openai 0.2.2 requires openai>=1.14.0, but you have openai 0.27.0 which is incompatible.\u001b[0m\u001b[31m\n",
      "\u001b[0mSuccessfully installed openai-0.27.0\n"
     ]
    }
   ],
   "source": [
    "# !pip install openai==0.27.0"
   ]
  },
  {
   "cell_type": "code",
   "execution_count": 5,
   "id": "f4b998db-dfda-470f-8000-fa321d658688",
   "metadata": {
    "tags": []
   },
   "outputs": [],
   "source": [
    "import openai\n",
    "import os\n",
    "import pandas as pd"
   ]
  },
  {
   "cell_type": "code",
   "execution_count": 3,
   "id": "a48bb49e-08b1-4757-9f5b-b3b44fcc0903",
   "metadata": {
    "tags": []
   },
   "outputs": [],
   "source": [
    "# Set up your OpenAI API key\n",
    "openai.api_key = os.getenv(\"OPENAI_API_KEY\")"
   ]
  },
  {
   "cell_type": "code",
   "execution_count": 6,
   "id": "54fbbc9c-d8e4-4732-8b3c-645c5a3af1fe",
   "metadata": {
    "tags": []
   },
   "outputs": [],
   "source": [
    "# Function to classify which candidate the tweet is about\n",
    "def classify_tweet(tweet):\n",
    "    prompt = f\"Classify the following tweet into one of these categories: Ranil Wickramasinghe, Sajith Premadasa, Anura Kumara Dissanayake, or 'Other'. Tweet: \\\"{tweet}\\\"\"\n",
    "    response = openai.Completion.create(\n",
    "        engine=\"gpt-3.5-turbo-1106\",\n",
    "        prompt=prompt,\n",
    "        temperature=0.7\n",
    "    )\n",
    "    category = response['choices'][0]['text'].strip()\n",
    "    return category"
   ]
  },
  {
   "cell_type": "code",
   "execution_count": 8,
   "id": "0aa8022d-31df-4b34-ad03-3de15a75e85e",
   "metadata": {
    "tags": []
   },
   "outputs": [],
   "source": [
    "tweets_df=pd.read_csv(\"daily_tweets.csv\")"
   ]
  },
  {
   "cell_type": "code",
   "execution_count": null,
   "id": "3f70d085-4f94-4996-a969-6a66a2a0644b",
   "metadata": {},
   "outputs": [],
   "source": [
    "# Apply the classification function to each tweet\n",
    "tweets_df['candidate'] = tweets_df['tweet'].apply(classify_tweet)"
   ]
  },
  {
   "cell_type": "code",
   "execution_count": 9,
   "id": "8fbec62b-5705-4069-a71e-c9b51c14a4cc",
   "metadata": {
    "tags": []
   },
   "outputs": [
    {
     "data": {
      "text/html": [
       "<div>\n",
       "<style scoped>\n",
       "    .dataframe tbody tr th:only-of-type {\n",
       "        vertical-align: middle;\n",
       "    }\n",
       "\n",
       "    .dataframe tbody tr th {\n",
       "        vertical-align: top;\n",
       "    }\n",
       "\n",
       "    .dataframe thead th {\n",
       "        text-align: right;\n",
       "    }\n",
       "</style>\n",
       "<table border=\"1\" class=\"dataframe\">\n",
       "  <thead>\n",
       "    <tr style=\"text-align: right;\">\n",
       "      <th></th>\n",
       "      <th>tweet</th>\n",
       "      <th>candidate</th>\n",
       "    </tr>\n",
       "  </thead>\n",
       "  <tbody>\n",
       "    <tr>\n",
       "      <th>0</th>\n",
       "      <td>Thank you @RW_SRILANKA for your ACA, CIABOC an...</td>\n",
       "      <td>Ranil Wickramasinghe</td>\n",
       "    </tr>\n",
       "    <tr>\n",
       "      <th>1</th>\n",
       "      <td>🤔 how easily you insult the man who took up th...</td>\n",
       "      <td>Ranil Wickramasinghe</td>\n",
       "    </tr>\n",
       "    <tr>\n",
       "      <th>2</th>\n",
       "      <td>Put @RW_SRILANKA as the second preference. Don...</td>\n",
       "      <td>Ranil Wickramasinghe</td>\n",
       "    </tr>\n",
       "    <tr>\n",
       "      <th>3</th>\n",
       "      <td>This is not a Parliament Election. You are sel...</td>\n",
       "      <td>Ranil Wickramasinghe</td>\n",
       "    </tr>\n",
       "    <tr>\n",
       "      <th>4</th>\n",
       "      <td>How can you be so sure RW will provide economi...</td>\n",
       "      <td>Ranil Wickramasinghe</td>\n",
       "    </tr>\n",
       "  </tbody>\n",
       "</table>\n",
       "</div>"
      ],
      "text/plain": [
       "                                               tweet             candidate\n",
       "0  Thank you @RW_SRILANKA for your ACA, CIABOC an...  Ranil Wickramasinghe\n",
       "1  🤔 how easily you insult the man who took up th...  Ranil Wickramasinghe\n",
       "2  Put @RW_SRILANKA as the second preference. Don...  Ranil Wickramasinghe\n",
       "3  This is not a Parliament Election. You are sel...  Ranil Wickramasinghe\n",
       "4  How can you be so sure RW will provide economi...  Ranil Wickramasinghe"
      ]
     },
     "execution_count": 9,
     "metadata": {},
     "output_type": "execute_result"
    }
   ],
   "source": [
    "tweets_df[['tweet', 'candidate']].head()"
   ]
  },
  {
   "cell_type": "markdown",
   "id": "729888f0-f740-41a9-97e8-d9e9f30644b9",
   "metadata": {},
   "source": [
    "## Storing Data in Separate CSV Files for Each Candidate"
   ]
  },
  {
   "cell_type": "code",
   "execution_count": 10,
   "id": "7feb3e82-bb14-4d39-a56b-7a2e6df7690b",
   "metadata": {
    "tags": []
   },
   "outputs": [],
   "source": [
    "candidates = ['Ranil Wickramasinghe', 'Sajith Premadasa', 'Anura Kumara Dissanayake']"
   ]
  },
  {
   "cell_type": "code",
   "execution_count": 12,
   "id": "5b903d0c-4199-4c7c-b10d-e49c6919546a",
   "metadata": {
    "tags": []
   },
   "outputs": [],
   "source": [
    "for candidate in candidates:\n",
    "    candidate_df = tweets_df[tweets_df['candidate'] == candidate]\n",
    "    candidate_df.to_csv(f'{candidate}_tweets.csv', index=False)"
   ]
  },
  {
   "cell_type": "code",
   "execution_count": null,
   "id": "231fe9a9-1e93-428f-bd0e-d044ac1fa9b5",
   "metadata": {},
   "outputs": [],
   "source": [
    "others_df = tweets_df[tweets_df['Candidate'] == 'Other']\n",
    "others_df.to_csv('irrelevant_tweets.csv', index=False)"
   ]
  }
 ],
 "metadata": {
  "kernelspec": {
   "display_name": "Python 3 (ipykernel)",
   "language": "python",
   "name": "python3"
  },
  "language_info": {
   "codemirror_mode": {
    "name": "ipython",
    "version": 3
   },
   "file_extension": ".py",
   "mimetype": "text/x-python",
   "name": "python",
   "nbconvert_exporter": "python",
   "pygments_lexer": "ipython3",
   "version": "3.11.5"
  }
 },
 "nbformat": 4,
 "nbformat_minor": 5
}

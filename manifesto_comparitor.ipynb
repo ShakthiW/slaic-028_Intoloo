{
 "cells": [
  {
   "cell_type": "markdown",
   "metadata": {
    "id": "piBrI5ukuZSg"
   },
   "source": [
    "# Comapair the Manifetos of the main candidates\n",
    "\n"
   ]
  },
  {
   "cell_type": "code",
   "execution_count": 1,
   "metadata": {
    "colab": {
     "base_uri": "https://localhost:8080/"
    },
    "collapsed": true,
    "id": "M4aWI5yfuC22",
    "jupyter": {
     "outputs_hidden": true
    },
    "outputId": "6a15907b-59ef-4dac-98e7-d5818f2977a8"
   },
   "outputs": [
    {
     "name": "stdout",
     "output_type": "stream",
     "text": [
      "Collecting llama-index\n",
      "  Downloading llama_index-0.11.10-py3-none-any.whl.metadata (11 kB)\n",
      "Collecting llama-hub\n",
      "  Downloading llama_hub-0.0.79.post1-py3-none-any.whl.metadata (16 kB)\n",
      "Collecting pypdf\n",
      "  Downloading pypdf-4.3.1-py3-none-any.whl.metadata (7.4 kB)\n",
      "Collecting llama-index-agent-openai<0.4.0,>=0.3.1 (from llama-index)\n",
      "  Downloading llama_index_agent_openai-0.3.1-py3-none-any.whl.metadata (677 bytes)\n",
      "Collecting llama-index-cli<0.4.0,>=0.3.1 (from llama-index)\n",
      "  Downloading llama_index_cli-0.3.1-py3-none-any.whl.metadata (1.5 kB)\n",
      "Collecting llama-index-core<0.12.0,>=0.11.10 (from llama-index)\n",
      "  Downloading llama_index_core-0.11.10-py3-none-any.whl.metadata (2.4 kB)\n",
      "Collecting llama-index-embeddings-openai<0.3.0,>=0.2.4 (from llama-index)\n",
      "  Downloading llama_index_embeddings_openai-0.2.5-py3-none-any.whl.metadata (686 bytes)\n",
      "Collecting llama-index-indices-managed-llama-cloud>=0.3.0 (from llama-index)\n",
      "  Downloading llama_index_indices_managed_llama_cloud-0.3.1-py3-none-any.whl.metadata (3.8 kB)\n",
      "Collecting llama-index-legacy<0.10.0,>=0.9.48 (from llama-index)\n",
      "  Downloading llama_index_legacy-0.9.48.post3-py3-none-any.whl.metadata (8.5 kB)\n",
      "Collecting llama-index-llms-openai<0.3.0,>=0.2.3 (from llama-index)\n",
      "  Downloading llama_index_llms_openai-0.2.7-py3-none-any.whl.metadata (705 bytes)\n",
      "Collecting llama-index-multi-modal-llms-openai<0.3.0,>=0.2.0 (from llama-index)\n",
      "  Downloading llama_index_multi_modal_llms_openai-0.2.1-py3-none-any.whl.metadata (728 bytes)\n",
      "Collecting llama-index-program-openai<0.3.0,>=0.2.0 (from llama-index)\n",
      "  Downloading llama_index_program_openai-0.2.0-py3-none-any.whl.metadata (766 bytes)\n",
      "Collecting llama-index-question-gen-openai<0.3.0,>=0.2.0 (from llama-index)\n",
      "  Downloading llama_index_question_gen_openai-0.2.0-py3-none-any.whl.metadata (785 bytes)\n",
      "Collecting llama-index-readers-file<0.3.0,>=0.2.0 (from llama-index)\n",
      "  Downloading llama_index_readers_file-0.2.1-py3-none-any.whl.metadata (5.4 kB)\n",
      "Collecting llama-index-readers-llama-parse>=0.3.0 (from llama-index)\n",
      "  Downloading llama_index_readers_llama_parse-0.3.0-py3-none-any.whl.metadata (3.5 kB)\n",
      "Collecting nltk>3.8.1 (from llama-index)\n",
      "  Downloading nltk-3.9.1-py3-none-any.whl.metadata (2.9 kB)\n",
      "Collecting html2text (from llama-hub)\n",
      "  Downloading html2text-2024.2.26.tar.gz (56 kB)\n",
      "\u001b[2K     \u001b[90m━━━━━━━━━━━━━━━━━━━━━━━━━━━━━━━━━━━━━━━━\u001b[0m \u001b[32m56.5/56.5 kB\u001b[0m \u001b[31m3.7 MB/s\u001b[0m eta \u001b[36m0:00:00\u001b[0m\n",
      "\u001b[?25h  Preparing metadata (setup.py) ... \u001b[?25l\u001b[?25hdone\n",
      "Requirement already satisfied: psutil in /usr/local/lib/python3.10/dist-packages (from llama-hub) (5.9.5)\n",
      "Collecting pyaml<24.0.0,>=23.9.7 (from llama-hub)\n",
      "  Downloading pyaml-23.12.0-py3-none-any.whl.metadata (11 kB)\n",
      "Collecting retrying (from llama-hub)\n",
      "  Downloading retrying-1.3.4-py3-none-any.whl.metadata (6.9 kB)\n",
      "Requirement already satisfied: typing_extensions>=4.0 in /usr/local/lib/python3.10/dist-packages (from pypdf) (4.12.2)\n",
      "Collecting openai>=1.14.0 (from llama-index-agent-openai<0.4.0,>=0.3.1->llama-index)\n",
      "  Downloading openai-1.45.1-py3-none-any.whl.metadata (22 kB)\n",
      "Requirement already satisfied: PyYAML>=6.0.1 in /usr/local/lib/python3.10/dist-packages (from llama-index-core<0.12.0,>=0.11.10->llama-index) (6.0.2)\n",
      "Requirement already satisfied: SQLAlchemy>=1.4.49 in /usr/local/lib/python3.10/dist-packages (from SQLAlchemy[asyncio]>=1.4.49->llama-index-core<0.12.0,>=0.11.10->llama-index) (2.0.34)\n",
      "Requirement already satisfied: aiohttp<4.0.0,>=3.8.6 in /usr/local/lib/python3.10/dist-packages (from llama-index-core<0.12.0,>=0.11.10->llama-index) (3.10.5)\n",
      "Collecting dataclasses-json (from llama-index-core<0.12.0,>=0.11.10->llama-index)\n",
      "  Downloading dataclasses_json-0.6.7-py3-none-any.whl.metadata (25 kB)\n",
      "Collecting deprecated>=1.2.9.3 (from llama-index-core<0.12.0,>=0.11.10->llama-index)\n",
      "  Downloading Deprecated-1.2.14-py2.py3-none-any.whl.metadata (5.4 kB)\n",
      "Collecting dirtyjson<2.0.0,>=1.0.8 (from llama-index-core<0.12.0,>=0.11.10->llama-index)\n",
      "  Downloading dirtyjson-1.0.8-py3-none-any.whl.metadata (11 kB)\n",
      "Requirement already satisfied: fsspec>=2023.5.0 in /usr/local/lib/python3.10/dist-packages (from llama-index-core<0.12.0,>=0.11.10->llama-index) (2024.6.1)\n",
      "Collecting httpx (from llama-index-core<0.12.0,>=0.11.10->llama-index)\n",
      "  Downloading httpx-0.27.2-py3-none-any.whl.metadata (7.1 kB)\n",
      "Requirement already satisfied: nest-asyncio<2.0.0,>=1.5.8 in /usr/local/lib/python3.10/dist-packages (from llama-index-core<0.12.0,>=0.11.10->llama-index) (1.6.0)\n",
      "Requirement already satisfied: networkx>=3.0 in /usr/local/lib/python3.10/dist-packages (from llama-index-core<0.12.0,>=0.11.10->llama-index) (3.3)\n",
      "Requirement already satisfied: numpy<2.0.0 in /usr/local/lib/python3.10/dist-packages (from llama-index-core<0.12.0,>=0.11.10->llama-index) (1.26.4)\n",
      "Requirement already satisfied: pillow>=9.0.0 in /usr/local/lib/python3.10/dist-packages (from llama-index-core<0.12.0,>=0.11.10->llama-index) (9.4.0)\n",
      "Requirement already satisfied: pydantic<3.0.0,>=2.7.0 in /usr/local/lib/python3.10/dist-packages (from llama-index-core<0.12.0,>=0.11.10->llama-index) (2.9.1)\n",
      "Requirement already satisfied: requests>=2.31.0 in /usr/local/lib/python3.10/dist-packages (from llama-index-core<0.12.0,>=0.11.10->llama-index) (2.32.3)\n",
      "Collecting tenacity!=8.4.0,<9.0.0,>=8.2.0 (from llama-index-core<0.12.0,>=0.11.10->llama-index)\n",
      "  Downloading tenacity-8.5.0-py3-none-any.whl.metadata (1.2 kB)\n",
      "Collecting tiktoken>=0.3.3 (from llama-index-core<0.12.0,>=0.11.10->llama-index)\n",
      "  Downloading tiktoken-0.7.0-cp310-cp310-manylinux_2_17_x86_64.manylinux2014_x86_64.whl.metadata (6.6 kB)\n",
      "Requirement already satisfied: tqdm<5.0.0,>=4.66.1 in /usr/local/lib/python3.10/dist-packages (from llama-index-core<0.12.0,>=0.11.10->llama-index) (4.66.5)\n",
      "Collecting typing-inspect>=0.8.0 (from llama-index-core<0.12.0,>=0.11.10->llama-index)\n",
      "  Downloading typing_inspect-0.9.0-py3-none-any.whl.metadata (1.5 kB)\n",
      "Requirement already satisfied: wrapt in /usr/local/lib/python3.10/dist-packages (from llama-index-core<0.12.0,>=0.11.10->llama-index) (1.16.0)\n",
      "Collecting llama-cloud>=0.0.11 (from llama-index-indices-managed-llama-cloud>=0.3.0->llama-index)\n",
      "  Downloading llama_cloud-0.0.17-py3-none-any.whl.metadata (751 bytes)\n",
      "Requirement already satisfied: pandas in /usr/local/lib/python3.10/dist-packages (from llama-index-legacy<0.10.0,>=0.9.48->llama-index) (2.1.4)\n",
      "Requirement already satisfied: beautifulsoup4<5.0.0,>=4.12.3 in /usr/local/lib/python3.10/dist-packages (from llama-index-readers-file<0.3.0,>=0.2.0->llama-index) (4.12.3)\n",
      "Collecting striprtf<0.0.27,>=0.0.26 (from llama-index-readers-file<0.3.0,>=0.2.0->llama-index)\n",
      "  Downloading striprtf-0.0.26-py3-none-any.whl.metadata (2.1 kB)\n",
      "Collecting llama-parse>=0.5.0 (from llama-index-readers-llama-parse>=0.3.0->llama-index)\n",
      "  Downloading llama_parse-0.5.5-py3-none-any.whl.metadata (6.1 kB)\n",
      "Requirement already satisfied: click in /usr/local/lib/python3.10/dist-packages (from nltk>3.8.1->llama-index) (8.1.7)\n",
      "Requirement already satisfied: joblib in /usr/local/lib/python3.10/dist-packages (from nltk>3.8.1->llama-index) (1.4.2)\n",
      "Requirement already satisfied: regex>=2021.8.3 in /usr/local/lib/python3.10/dist-packages (from nltk>3.8.1->llama-index) (2024.5.15)\n",
      "Requirement already satisfied: six>=1.7.0 in /usr/local/lib/python3.10/dist-packages (from retrying->llama-hub) (1.16.0)\n",
      "Requirement already satisfied: aiohappyeyeballs>=2.3.0 in /usr/local/lib/python3.10/dist-packages (from aiohttp<4.0.0,>=3.8.6->llama-index-core<0.12.0,>=0.11.10->llama-index) (2.4.0)\n",
      "Requirement already satisfied: aiosignal>=1.1.2 in /usr/local/lib/python3.10/dist-packages (from aiohttp<4.0.0,>=3.8.6->llama-index-core<0.12.0,>=0.11.10->llama-index) (1.3.1)\n",
      "Requirement already satisfied: attrs>=17.3.0 in /usr/local/lib/python3.10/dist-packages (from aiohttp<4.0.0,>=3.8.6->llama-index-core<0.12.0,>=0.11.10->llama-index) (24.2.0)\n",
      "Requirement already satisfied: frozenlist>=1.1.1 in /usr/local/lib/python3.10/dist-packages (from aiohttp<4.0.0,>=3.8.6->llama-index-core<0.12.0,>=0.11.10->llama-index) (1.4.1)\n",
      "Requirement already satisfied: multidict<7.0,>=4.5 in /usr/local/lib/python3.10/dist-packages (from aiohttp<4.0.0,>=3.8.6->llama-index-core<0.12.0,>=0.11.10->llama-index) (6.1.0)\n",
      "Requirement already satisfied: yarl<2.0,>=1.0 in /usr/local/lib/python3.10/dist-packages (from aiohttp<4.0.0,>=3.8.6->llama-index-core<0.12.0,>=0.11.10->llama-index) (1.11.1)\n",
      "Requirement already satisfied: async-timeout<5.0,>=4.0 in /usr/local/lib/python3.10/dist-packages (from aiohttp<4.0.0,>=3.8.6->llama-index-core<0.12.0,>=0.11.10->llama-index) (4.0.3)\n",
      "Requirement already satisfied: soupsieve>1.2 in /usr/local/lib/python3.10/dist-packages (from beautifulsoup4<5.0.0,>=4.12.3->llama-index-readers-file<0.3.0,>=0.2.0->llama-index) (2.6)\n",
      "Requirement already satisfied: anyio in /usr/local/lib/python3.10/dist-packages (from httpx->llama-index-core<0.12.0,>=0.11.10->llama-index) (3.7.1)\n",
      "Requirement already satisfied: certifi in /usr/local/lib/python3.10/dist-packages (from httpx->llama-index-core<0.12.0,>=0.11.10->llama-index) (2024.8.30)\n",
      "Collecting httpcore==1.* (from httpx->llama-index-core<0.12.0,>=0.11.10->llama-index)\n",
      "  Downloading httpcore-1.0.5-py3-none-any.whl.metadata (20 kB)\n",
      "Requirement already satisfied: idna in /usr/local/lib/python3.10/dist-packages (from httpx->llama-index-core<0.12.0,>=0.11.10->llama-index) (3.8)\n",
      "Requirement already satisfied: sniffio in /usr/local/lib/python3.10/dist-packages (from httpx->llama-index-core<0.12.0,>=0.11.10->llama-index) (1.3.1)\n",
      "Collecting h11<0.15,>=0.13 (from httpcore==1.*->httpx->llama-index-core<0.12.0,>=0.11.10->llama-index)\n",
      "  Downloading h11-0.14.0-py3-none-any.whl.metadata (8.2 kB)\n",
      "Requirement already satisfied: distro<2,>=1.7.0 in /usr/lib/python3/dist-packages (from openai>=1.14.0->llama-index-agent-openai<0.4.0,>=0.3.1->llama-index) (1.7.0)\n",
      "Collecting jiter<1,>=0.4.0 (from openai>=1.14.0->llama-index-agent-openai<0.4.0,>=0.3.1->llama-index)\n",
      "  Downloading jiter-0.5.0-cp310-cp310-manylinux_2_17_x86_64.manylinux2014_x86_64.whl.metadata (3.6 kB)\n",
      "Requirement already satisfied: annotated-types>=0.6.0 in /usr/local/lib/python3.10/dist-packages (from pydantic<3.0.0,>=2.7.0->llama-index-core<0.12.0,>=0.11.10->llama-index) (0.7.0)\n",
      "Requirement already satisfied: pydantic-core==2.23.3 in /usr/local/lib/python3.10/dist-packages (from pydantic<3.0.0,>=2.7.0->llama-index-core<0.12.0,>=0.11.10->llama-index) (2.23.3)\n",
      "Requirement already satisfied: charset-normalizer<4,>=2 in /usr/local/lib/python3.10/dist-packages (from requests>=2.31.0->llama-index-core<0.12.0,>=0.11.10->llama-index) (3.3.2)\n",
      "Requirement already satisfied: urllib3<3,>=1.21.1 in /usr/local/lib/python3.10/dist-packages (from requests>=2.31.0->llama-index-core<0.12.0,>=0.11.10->llama-index) (2.0.7)\n",
      "Requirement already satisfied: greenlet!=0.4.17 in /usr/local/lib/python3.10/dist-packages (from SQLAlchemy>=1.4.49->SQLAlchemy[asyncio]>=1.4.49->llama-index-core<0.12.0,>=0.11.10->llama-index) (3.1.0)\n",
      "Collecting mypy-extensions>=0.3.0 (from typing-inspect>=0.8.0->llama-index-core<0.12.0,>=0.11.10->llama-index)\n",
      "  Downloading mypy_extensions-1.0.0-py3-none-any.whl.metadata (1.1 kB)\n",
      "Collecting marshmallow<4.0.0,>=3.18.0 (from dataclasses-json->llama-index-core<0.12.0,>=0.11.10->llama-index)\n",
      "  Downloading marshmallow-3.22.0-py3-none-any.whl.metadata (7.2 kB)\n",
      "Requirement already satisfied: python-dateutil>=2.8.2 in /usr/local/lib/python3.10/dist-packages (from pandas->llama-index-legacy<0.10.0,>=0.9.48->llama-index) (2.8.2)\n",
      "Requirement already satisfied: pytz>=2020.1 in /usr/local/lib/python3.10/dist-packages (from pandas->llama-index-legacy<0.10.0,>=0.9.48->llama-index) (2024.2)\n",
      "Requirement already satisfied: tzdata>=2022.1 in /usr/local/lib/python3.10/dist-packages (from pandas->llama-index-legacy<0.10.0,>=0.9.48->llama-index) (2024.1)\n",
      "Requirement already satisfied: exceptiongroup in /usr/local/lib/python3.10/dist-packages (from anyio->httpx->llama-index-core<0.12.0,>=0.11.10->llama-index) (1.2.2)\n",
      "Requirement already satisfied: packaging>=17.0 in /usr/local/lib/python3.10/dist-packages (from marshmallow<4.0.0,>=3.18.0->dataclasses-json->llama-index-core<0.12.0,>=0.11.10->llama-index) (24.1)\n",
      "Downloading llama_index-0.11.10-py3-none-any.whl (6.8 kB)\n",
      "Downloading llama_hub-0.0.79.post1-py3-none-any.whl (103.9 MB)\n",
      "\u001b[2K   \u001b[90m━━━━━━━━━━━━━━━━━━━━━━━━━━━━━━━━━━━━━━━━\u001b[0m \u001b[32m103.9/103.9 MB\u001b[0m \u001b[31m9.0 MB/s\u001b[0m eta \u001b[36m0:00:00\u001b[0m\n",
      "\u001b[?25hDownloading pypdf-4.3.1-py3-none-any.whl (295 kB)\n",
      "\u001b[2K   \u001b[90m━━━━━━━━━━━━━━━━━━━━━━━━━━━━━━━━━━━━━━━━\u001b[0m \u001b[32m295.8/295.8 kB\u001b[0m \u001b[31m22.6 MB/s\u001b[0m eta \u001b[36m0:00:00\u001b[0m\n",
      "\u001b[?25hDownloading llama_index_agent_openai-0.3.1-py3-none-any.whl (13 kB)\n",
      "Downloading llama_index_cli-0.3.1-py3-none-any.whl (27 kB)\n",
      "Downloading llama_index_core-0.11.10-py3-none-any.whl (1.6 MB)\n",
      "\u001b[2K   \u001b[90m━━━━━━━━━━━━━━━━━━━━━━━━━━━━━━━━━━━━━━━━\u001b[0m \u001b[32m1.6/1.6 MB\u001b[0m \u001b[31m61.6 MB/s\u001b[0m eta \u001b[36m0:00:00\u001b[0m\n",
      "\u001b[?25hDownloading llama_index_embeddings_openai-0.2.5-py3-none-any.whl (6.1 kB)\n",
      "Downloading llama_index_indices_managed_llama_cloud-0.3.1-py3-none-any.whl (10 kB)\n",
      "Downloading llama_index_legacy-0.9.48.post3-py3-none-any.whl (1.2 MB)\n",
      "\u001b[2K   \u001b[90m━━━━━━━━━━━━━━━━━━━━━━━━━━━━━━━━━━━━━━━━\u001b[0m \u001b[32m1.2/1.2 MB\u001b[0m \u001b[31m53.9 MB/s\u001b[0m eta \u001b[36m0:00:00\u001b[0m\n",
      "\u001b[?25hDownloading llama_index_llms_openai-0.2.7-py3-none-any.whl (12 kB)\n",
      "Downloading llama_index_multi_modal_llms_openai-0.2.1-py3-none-any.whl (5.9 kB)\n",
      "Downloading llama_index_program_openai-0.2.0-py3-none-any.whl (5.3 kB)\n",
      "Downloading llama_index_question_gen_openai-0.2.0-py3-none-any.whl (2.9 kB)\n",
      "Downloading llama_index_readers_file-0.2.1-py3-none-any.whl (38 kB)\n",
      "Downloading llama_index_readers_llama_parse-0.3.0-py3-none-any.whl (2.5 kB)\n",
      "Downloading nltk-3.9.1-py3-none-any.whl (1.5 MB)\n",
      "\u001b[2K   \u001b[90m━━━━━━━━━━━━━━━━━━━━━━━━━━━━━━━━━━━━━━━━\u001b[0m \u001b[32m1.5/1.5 MB\u001b[0m \u001b[31m52.7 MB/s\u001b[0m eta \u001b[36m0:00:00\u001b[0m\n",
      "\u001b[?25hDownloading pyaml-23.12.0-py3-none-any.whl (23 kB)\n",
      "Downloading retrying-1.3.4-py3-none-any.whl (11 kB)\n",
      "Downloading Deprecated-1.2.14-py2.py3-none-any.whl (9.6 kB)\n",
      "Downloading dirtyjson-1.0.8-py3-none-any.whl (25 kB)\n",
      "Downloading llama_cloud-0.0.17-py3-none-any.whl (187 kB)\n",
      "\u001b[2K   \u001b[90m━━━━━━━━━━━━━━━━━━━━━━━━━━━━━━━━━━━━━━━━\u001b[0m \u001b[32m187.4/187.4 kB\u001b[0m \u001b[31m13.9 MB/s\u001b[0m eta \u001b[36m0:00:00\u001b[0m\n",
      "\u001b[?25hDownloading httpx-0.27.2-py3-none-any.whl (76 kB)\n",
      "\u001b[2K   \u001b[90m━━━━━━━━━━━━━━━━━━━━━━━━━━━━━━━━━━━━━━━━\u001b[0m \u001b[32m76.4/76.4 kB\u001b[0m \u001b[31m6.3 MB/s\u001b[0m eta \u001b[36m0:00:00\u001b[0m\n",
      "\u001b[?25hDownloading httpcore-1.0.5-py3-none-any.whl (77 kB)\n",
      "\u001b[2K   \u001b[90m━━━━━━━━━━━━━━━━━━━━━━━━━━━━━━━━━━━━━━━━\u001b[0m \u001b[32m77.9/77.9 kB\u001b[0m \u001b[31m6.3 MB/s\u001b[0m eta \u001b[36m0:00:00\u001b[0m\n",
      "\u001b[?25hDownloading llama_parse-0.5.5-py3-none-any.whl (10 kB)\n",
      "Downloading openai-1.45.1-py3-none-any.whl (374 kB)\n",
      "\u001b[2K   \u001b[90m━━━━━━━━━━━━━━━━━━━━━━━━━━━━━━━━━━━━━━━━\u001b[0m \u001b[32m374.2/374.2 kB\u001b[0m \u001b[31m24.8 MB/s\u001b[0m eta \u001b[36m0:00:00\u001b[0m\n",
      "\u001b[?25hDownloading striprtf-0.0.26-py3-none-any.whl (6.9 kB)\n",
      "Downloading tenacity-8.5.0-py3-none-any.whl (28 kB)\n",
      "Downloading tiktoken-0.7.0-cp310-cp310-manylinux_2_17_x86_64.manylinux2014_x86_64.whl (1.1 MB)\n",
      "\u001b[2K   \u001b[90m━━━━━━━━━━━━━━━━━━━━━━━━━━━━━━━━━━━━━━━━\u001b[0m \u001b[32m1.1/1.1 MB\u001b[0m \u001b[31m44.6 MB/s\u001b[0m eta \u001b[36m0:00:00\u001b[0m\n",
      "\u001b[?25hDownloading typing_inspect-0.9.0-py3-none-any.whl (8.8 kB)\n",
      "Downloading dataclasses_json-0.6.7-py3-none-any.whl (28 kB)\n",
      "Downloading jiter-0.5.0-cp310-cp310-manylinux_2_17_x86_64.manylinux2014_x86_64.whl (318 kB)\n",
      "\u001b[2K   \u001b[90m━━━━━━━━━━━━━━━━━━━━━━━━━━━━━━━━━━━━━━━━\u001b[0m \u001b[32m318.9/318.9 kB\u001b[0m \u001b[31m24.2 MB/s\u001b[0m eta \u001b[36m0:00:00\u001b[0m\n",
      "\u001b[?25hDownloading marshmallow-3.22.0-py3-none-any.whl (49 kB)\n",
      "\u001b[2K   \u001b[90m━━━━━━━━━━━━━━━━━━━━━━━━━━━━━━━━━━━━━━━━\u001b[0m \u001b[32m49.3/49.3 kB\u001b[0m \u001b[31m4.1 MB/s\u001b[0m eta \u001b[36m0:00:00\u001b[0m\n",
      "\u001b[?25hDownloading mypy_extensions-1.0.0-py3-none-any.whl (4.7 kB)\n",
      "Downloading h11-0.14.0-py3-none-any.whl (58 kB)\n",
      "\u001b[2K   \u001b[90m━━━━━━━━━━━━━━━━━━━━━━━━━━━━━━━━━━━━━━━━\u001b[0m \u001b[32m58.3/58.3 kB\u001b[0m \u001b[31m5.1 MB/s\u001b[0m eta \u001b[36m0:00:00\u001b[0m\n",
      "\u001b[?25hBuilding wheels for collected packages: html2text\n",
      "  Building wheel for html2text (setup.py) ... \u001b[?25l\u001b[?25hdone\n",
      "  Created wheel for html2text: filename=html2text-2024.2.26-py3-none-any.whl size=33111 sha256=55ce6de5a706bbe58a75fa09ba74aeab4f2a29066346b12ab28a54bf39b3954f\n",
      "  Stored in directory: /root/.cache/pip/wheels/f3/96/6d/a7eba8f80d31cbd188a2787b81514d82fc5ae6943c44777659\n",
      "Successfully built html2text\n",
      "Installing collected packages: striprtf, dirtyjson, tenacity, retrying, pypdf, pyaml, nltk, mypy-extensions, marshmallow, jiter, html2text, h11, deprecated, typing-inspect, tiktoken, httpcore, httpx, dataclasses-json, openai, llama-index-core, llama-cloud, llama-parse, llama-index-readers-file, llama-index-legacy, llama-index-indices-managed-llama-cloud, llama-index-embeddings-openai, llama-index-readers-llama-parse, llama-index-llms-openai, llama-index-agent-openai, llama-index-program-openai, llama-index-question-gen-openai, llama-index-multi-modal-llms-openai, llama-index-cli, llama-index, llama-hub\n",
      "  Attempting uninstall: tenacity\n",
      "    Found existing installation: tenacity 9.0.0\n",
      "    Uninstalling tenacity-9.0.0:\n",
      "      Successfully uninstalled tenacity-9.0.0\n",
      "  Attempting uninstall: nltk\n",
      "    Found existing installation: nltk 3.8.1\n",
      "    Uninstalling nltk-3.8.1:\n",
      "      Successfully uninstalled nltk-3.8.1\n",
      "Successfully installed dataclasses-json-0.6.7 deprecated-1.2.14 dirtyjson-1.0.8 h11-0.14.0 html2text-2024.2.26 httpcore-1.0.5 httpx-0.27.2 jiter-0.5.0 llama-cloud-0.0.17 llama-hub-0.0.79.post1 llama-index-0.11.10 llama-index-agent-openai-0.3.1 llama-index-cli-0.3.1 llama-index-core-0.11.10 llama-index-embeddings-openai-0.2.5 llama-index-indices-managed-llama-cloud-0.3.1 llama-index-legacy-0.9.48.post3 llama-index-llms-openai-0.2.7 llama-index-multi-modal-llms-openai-0.2.1 llama-index-program-openai-0.2.0 llama-index-question-gen-openai-0.2.0 llama-index-readers-file-0.2.1 llama-index-readers-llama-parse-0.3.0 llama-parse-0.5.5 marshmallow-3.22.0 mypy-extensions-1.0.0 nltk-3.9.1 openai-1.45.1 pyaml-23.12.0 pypdf-4.3.1 retrying-1.3.4 striprtf-0.0.26 tenacity-8.5.0 tiktoken-0.7.0 typing-inspect-0.9.0\n"
     ]
    }
   ],
   "source": [
    "!pip install llama-index llama-hub pypdf"
   ]
  },
  {
   "cell_type": "code",
   "execution_count": 2,
   "metadata": {
    "collapsed": true,
    "id": "TntzUiwrU8OM",
    "jupyter": {
     "outputs_hidden": true
    }
   },
   "outputs": [],
   "source": [
    "# !pip install --upgrade llama-index"
   ]
  },
  {
   "cell_type": "code",
   "execution_count": 3,
   "metadata": {
    "colab": {
     "base_uri": "https://localhost:8080/"
    },
    "collapsed": true,
    "id": "jO4a3mdLd6o7",
    "jupyter": {
     "outputs_hidden": true
    },
    "outputId": "737f59ce-d6a4-461a-e430-14c5db1b7ae0"
   },
   "outputs": [
    {
     "name": "stdout",
     "output_type": "stream",
     "text": [
      "Requirement already satisfied: llama-index-readers-file in /usr/local/lib/python3.10/dist-packages (0.2.1)\n",
      "Requirement already satisfied: beautifulsoup4<5.0.0,>=4.12.3 in /usr/local/lib/python3.10/dist-packages (from llama-index-readers-file) (4.12.3)\n",
      "Requirement already satisfied: llama-index-core<0.12.0,>=0.11.0 in /usr/local/lib/python3.10/dist-packages (from llama-index-readers-file) (0.11.10)\n",
      "Requirement already satisfied: pandas in /usr/local/lib/python3.10/dist-packages (from llama-index-readers-file) (2.1.4)\n",
      "Requirement already satisfied: pypdf<5.0.0,>=4.0.1 in /usr/local/lib/python3.10/dist-packages (from llama-index-readers-file) (4.3.1)\n",
      "Requirement already satisfied: striprtf<0.0.27,>=0.0.26 in /usr/local/lib/python3.10/dist-packages (from llama-index-readers-file) (0.0.26)\n",
      "Requirement already satisfied: soupsieve>1.2 in /usr/local/lib/python3.10/dist-packages (from beautifulsoup4<5.0.0,>=4.12.3->llama-index-readers-file) (2.6)\n",
      "Requirement already satisfied: PyYAML>=6.0.1 in /usr/local/lib/python3.10/dist-packages (from llama-index-core<0.12.0,>=0.11.0->llama-index-readers-file) (6.0.2)\n",
      "Requirement already satisfied: SQLAlchemy>=1.4.49 in /usr/local/lib/python3.10/dist-packages (from SQLAlchemy[asyncio]>=1.4.49->llama-index-core<0.12.0,>=0.11.0->llama-index-readers-file) (2.0.34)\n",
      "Requirement already satisfied: aiohttp<4.0.0,>=3.8.6 in /usr/local/lib/python3.10/dist-packages (from llama-index-core<0.12.0,>=0.11.0->llama-index-readers-file) (3.10.5)\n",
      "Requirement already satisfied: dataclasses-json in /usr/local/lib/python3.10/dist-packages (from llama-index-core<0.12.0,>=0.11.0->llama-index-readers-file) (0.6.7)\n",
      "Requirement already satisfied: deprecated>=1.2.9.3 in /usr/local/lib/python3.10/dist-packages (from llama-index-core<0.12.0,>=0.11.0->llama-index-readers-file) (1.2.14)\n",
      "Requirement already satisfied: dirtyjson<2.0.0,>=1.0.8 in /usr/local/lib/python3.10/dist-packages (from llama-index-core<0.12.0,>=0.11.0->llama-index-readers-file) (1.0.8)\n",
      "Requirement already satisfied: fsspec>=2023.5.0 in /usr/local/lib/python3.10/dist-packages (from llama-index-core<0.12.0,>=0.11.0->llama-index-readers-file) (2024.6.1)\n",
      "Requirement already satisfied: httpx in /usr/local/lib/python3.10/dist-packages (from llama-index-core<0.12.0,>=0.11.0->llama-index-readers-file) (0.27.2)\n",
      "Requirement already satisfied: nest-asyncio<2.0.0,>=1.5.8 in /usr/local/lib/python3.10/dist-packages (from llama-index-core<0.12.0,>=0.11.0->llama-index-readers-file) (1.6.0)\n",
      "Requirement already satisfied: networkx>=3.0 in /usr/local/lib/python3.10/dist-packages (from llama-index-core<0.12.0,>=0.11.0->llama-index-readers-file) (3.3)\n",
      "Requirement already satisfied: nltk>3.8.1 in /usr/local/lib/python3.10/dist-packages (from llama-index-core<0.12.0,>=0.11.0->llama-index-readers-file) (3.9.1)\n",
      "Requirement already satisfied: numpy<2.0.0 in /usr/local/lib/python3.10/dist-packages (from llama-index-core<0.12.0,>=0.11.0->llama-index-readers-file) (1.26.4)\n",
      "Requirement already satisfied: pillow>=9.0.0 in /usr/local/lib/python3.10/dist-packages (from llama-index-core<0.12.0,>=0.11.0->llama-index-readers-file) (9.4.0)\n",
      "Requirement already satisfied: pydantic<3.0.0,>=2.7.0 in /usr/local/lib/python3.10/dist-packages (from llama-index-core<0.12.0,>=0.11.0->llama-index-readers-file) (2.9.1)\n",
      "Requirement already satisfied: requests>=2.31.0 in /usr/local/lib/python3.10/dist-packages (from llama-index-core<0.12.0,>=0.11.0->llama-index-readers-file) (2.32.3)\n",
      "Requirement already satisfied: tenacity!=8.4.0,<9.0.0,>=8.2.0 in /usr/local/lib/python3.10/dist-packages (from llama-index-core<0.12.0,>=0.11.0->llama-index-readers-file) (8.5.0)\n",
      "Requirement already satisfied: tiktoken>=0.3.3 in /usr/local/lib/python3.10/dist-packages (from llama-index-core<0.12.0,>=0.11.0->llama-index-readers-file) (0.7.0)\n",
      "Requirement already satisfied: tqdm<5.0.0,>=4.66.1 in /usr/local/lib/python3.10/dist-packages (from llama-index-core<0.12.0,>=0.11.0->llama-index-readers-file) (4.66.5)\n",
      "Requirement already satisfied: typing-extensions>=4.5.0 in /usr/local/lib/python3.10/dist-packages (from llama-index-core<0.12.0,>=0.11.0->llama-index-readers-file) (4.12.2)\n",
      "Requirement already satisfied: typing-inspect>=0.8.0 in /usr/local/lib/python3.10/dist-packages (from llama-index-core<0.12.0,>=0.11.0->llama-index-readers-file) (0.9.0)\n",
      "Requirement already satisfied: wrapt in /usr/local/lib/python3.10/dist-packages (from llama-index-core<0.12.0,>=0.11.0->llama-index-readers-file) (1.16.0)\n",
      "Requirement already satisfied: python-dateutil>=2.8.2 in /usr/local/lib/python3.10/dist-packages (from pandas->llama-index-readers-file) (2.8.2)\n",
      "Requirement already satisfied: pytz>=2020.1 in /usr/local/lib/python3.10/dist-packages (from pandas->llama-index-readers-file) (2024.2)\n",
      "Requirement already satisfied: tzdata>=2022.1 in /usr/local/lib/python3.10/dist-packages (from pandas->llama-index-readers-file) (2024.1)\n",
      "Requirement already satisfied: aiohappyeyeballs>=2.3.0 in /usr/local/lib/python3.10/dist-packages (from aiohttp<4.0.0,>=3.8.6->llama-index-core<0.12.0,>=0.11.0->llama-index-readers-file) (2.4.0)\n",
      "Requirement already satisfied: aiosignal>=1.1.2 in /usr/local/lib/python3.10/dist-packages (from aiohttp<4.0.0,>=3.8.6->llama-index-core<0.12.0,>=0.11.0->llama-index-readers-file) (1.3.1)\n",
      "Requirement already satisfied: attrs>=17.3.0 in /usr/local/lib/python3.10/dist-packages (from aiohttp<4.0.0,>=3.8.6->llama-index-core<0.12.0,>=0.11.0->llama-index-readers-file) (24.2.0)\n",
      "Requirement already satisfied: frozenlist>=1.1.1 in /usr/local/lib/python3.10/dist-packages (from aiohttp<4.0.0,>=3.8.6->llama-index-core<0.12.0,>=0.11.0->llama-index-readers-file) (1.4.1)\n",
      "Requirement already satisfied: multidict<7.0,>=4.5 in /usr/local/lib/python3.10/dist-packages (from aiohttp<4.0.0,>=3.8.6->llama-index-core<0.12.0,>=0.11.0->llama-index-readers-file) (6.1.0)\n",
      "Requirement already satisfied: yarl<2.0,>=1.0 in /usr/local/lib/python3.10/dist-packages (from aiohttp<4.0.0,>=3.8.6->llama-index-core<0.12.0,>=0.11.0->llama-index-readers-file) (1.11.1)\n",
      "Requirement already satisfied: async-timeout<5.0,>=4.0 in /usr/local/lib/python3.10/dist-packages (from aiohttp<4.0.0,>=3.8.6->llama-index-core<0.12.0,>=0.11.0->llama-index-readers-file) (4.0.3)\n",
      "Requirement already satisfied: click in /usr/local/lib/python3.10/dist-packages (from nltk>3.8.1->llama-index-core<0.12.0,>=0.11.0->llama-index-readers-file) (8.1.7)\n",
      "Requirement already satisfied: joblib in /usr/local/lib/python3.10/dist-packages (from nltk>3.8.1->llama-index-core<0.12.0,>=0.11.0->llama-index-readers-file) (1.4.2)\n",
      "Requirement already satisfied: regex>=2021.8.3 in /usr/local/lib/python3.10/dist-packages (from nltk>3.8.1->llama-index-core<0.12.0,>=0.11.0->llama-index-readers-file) (2024.5.15)\n",
      "Requirement already satisfied: annotated-types>=0.6.0 in /usr/local/lib/python3.10/dist-packages (from pydantic<3.0.0,>=2.7.0->llama-index-core<0.12.0,>=0.11.0->llama-index-readers-file) (0.7.0)\n",
      "Requirement already satisfied: pydantic-core==2.23.3 in /usr/local/lib/python3.10/dist-packages (from pydantic<3.0.0,>=2.7.0->llama-index-core<0.12.0,>=0.11.0->llama-index-readers-file) (2.23.3)\n",
      "Requirement already satisfied: six>=1.5 in /usr/local/lib/python3.10/dist-packages (from python-dateutil>=2.8.2->pandas->llama-index-readers-file) (1.16.0)\n",
      "Requirement already satisfied: charset-normalizer<4,>=2 in /usr/local/lib/python3.10/dist-packages (from requests>=2.31.0->llama-index-core<0.12.0,>=0.11.0->llama-index-readers-file) (3.3.2)\n",
      "Requirement already satisfied: idna<4,>=2.5 in /usr/local/lib/python3.10/dist-packages (from requests>=2.31.0->llama-index-core<0.12.0,>=0.11.0->llama-index-readers-file) (3.8)\n",
      "Requirement already satisfied: urllib3<3,>=1.21.1 in /usr/local/lib/python3.10/dist-packages (from requests>=2.31.0->llama-index-core<0.12.0,>=0.11.0->llama-index-readers-file) (2.0.7)\n",
      "Requirement already satisfied: certifi>=2017.4.17 in /usr/local/lib/python3.10/dist-packages (from requests>=2.31.0->llama-index-core<0.12.0,>=0.11.0->llama-index-readers-file) (2024.8.30)\n",
      "Requirement already satisfied: greenlet!=0.4.17 in /usr/local/lib/python3.10/dist-packages (from SQLAlchemy>=1.4.49->SQLAlchemy[asyncio]>=1.4.49->llama-index-core<0.12.0,>=0.11.0->llama-index-readers-file) (3.1.0)\n",
      "Requirement already satisfied: mypy-extensions>=0.3.0 in /usr/local/lib/python3.10/dist-packages (from typing-inspect>=0.8.0->llama-index-core<0.12.0,>=0.11.0->llama-index-readers-file) (1.0.0)\n",
      "Requirement already satisfied: marshmallow<4.0.0,>=3.18.0 in /usr/local/lib/python3.10/dist-packages (from dataclasses-json->llama-index-core<0.12.0,>=0.11.0->llama-index-readers-file) (3.22.0)\n",
      "Requirement already satisfied: anyio in /usr/local/lib/python3.10/dist-packages (from httpx->llama-index-core<0.12.0,>=0.11.0->llama-index-readers-file) (3.7.1)\n",
      "Requirement already satisfied: httpcore==1.* in /usr/local/lib/python3.10/dist-packages (from httpx->llama-index-core<0.12.0,>=0.11.0->llama-index-readers-file) (1.0.5)\n",
      "Requirement already satisfied: sniffio in /usr/local/lib/python3.10/dist-packages (from httpx->llama-index-core<0.12.0,>=0.11.0->llama-index-readers-file) (1.3.1)\n",
      "Requirement already satisfied: h11<0.15,>=0.13 in /usr/local/lib/python3.10/dist-packages (from httpcore==1.*->httpx->llama-index-core<0.12.0,>=0.11.0->llama-index-readers-file) (0.14.0)\n",
      "Requirement already satisfied: packaging>=17.0 in /usr/local/lib/python3.10/dist-packages (from marshmallow<4.0.0,>=3.18.0->dataclasses-json->llama-index-core<0.12.0,>=0.11.0->llama-index-readers-file) (24.1)\n",
      "Requirement already satisfied: exceptiongroup in /usr/local/lib/python3.10/dist-packages (from anyio->httpx->llama-index-core<0.12.0,>=0.11.0->llama-index-readers-file) (1.2.2)\n"
     ]
    }
   ],
   "source": [
    "!pip install llama-index-readers-file"
   ]
  },
  {
   "cell_type": "code",
   "execution_count": 4,
   "metadata": {
    "id": "Ht4oSN2PvzUJ"
   },
   "outputs": [],
   "source": [
    "# setup OpenAI\n",
    "import openai\n",
    "\n",
    "openai.api_key = \"\""
   ]
  },
  {
   "cell_type": "code",
   "execution_count": 5,
   "metadata": {
    "id": "k3CGRBjsuLCB"
   },
   "outputs": [],
   "source": [
    "import nest_asyncio\n",
    "\n",
    "nest_asyncio.apply()"
   ]
  },
  {
   "cell_type": "code",
   "execution_count": 6,
   "metadata": {
    "id": "VhuXtvSX2mWo"
   },
   "outputs": [],
   "source": [
    "from IPython.display import HTML, display\n",
    "\n",
    "def set_css():\n",
    "  display(HTML('''\n",
    "  <style>\n",
    "    pre {\n",
    "        white-space: pre-wrap;\n",
    "    }\n",
    "  </style>\n",
    "  '''))\n",
    "get_ipython().events.register('pre_run_cell', set_css)"
   ]
  },
  {
   "cell_type": "markdown",
   "metadata": {
    "id": "caYyEXrVuU_K"
   },
   "source": [
    "## Multi-Document Comparisons\n"
   ]
  },
  {
   "cell_type": "code",
   "execution_count": 7,
   "metadata": {
    "colab": {
     "base_uri": "https://localhost:8080/",
     "height": 17
    },
    "id": "1wHWB-aCuRN5",
    "outputId": "aea29f7c-d2af-4398-ee06-ad9e4a05018c"
   },
   "outputs": [
    {
     "data": {
      "text/html": [
       "\n",
       "  <style>\n",
       "    pre {\n",
       "        white-space: pre-wrap;\n",
       "    }\n",
       "  </style>\n",
       "  "
      ],
      "text/plain": [
       "<IPython.core.display.HTML object>"
      ]
     },
     "metadata": {},
     "output_type": "display_data"
    }
   ],
   "source": [
    "from llama_index.core import SimpleDirectoryReader, ServiceContext, VectorStoreIndex\n",
    "from llama_index.llms.openai import OpenAI\n",
    "\n",
    "from llama_index.core.tools import QueryEngineTool, ToolMetadata\n",
    "from llama_index.core.query_engine import SubQuestionQueryEngine\n",
    "from llama_index.core import Settings"
   ]
  },
  {
   "cell_type": "code",
   "execution_count": 8,
   "metadata": {
    "colab": {
     "base_uri": "https://localhost:8080/",
     "height": 17
    },
    "id": "984WD1y7uXBk",
    "outputId": "adb38ba5-7f19-4020-f654-aac7ad542afb"
   },
   "outputs": [
    {
     "data": {
      "text/html": [
       "\n",
       "  <style>\n",
       "    pre {\n",
       "        white-space: pre-wrap;\n",
       "    }\n",
       "  </style>\n",
       "  "
      ],
      "text/plain": [
       "<IPython.core.display.HTML object>"
      ]
     },
     "metadata": {},
     "output_type": "display_data"
    }
   ],
   "source": [
    "llm = OpenAI(temperature=0, model=\"gpt-3.5-turbo-1106\", max_tokens=4096)\n",
    "Settings.llm = llm"
   ]
  },
  {
   "cell_type": "code",
   "execution_count": 9,
   "metadata": {
    "colab": {
     "base_uri": "https://localhost:8080/",
     "height": 35
    },
    "id": "r0gWlRNMcgNc",
    "outputId": "e68bac4c-4727-4519-92cb-5cde5ea595cf"
   },
   "outputs": [
    {
     "data": {
      "text/html": [
       "\n",
       "  <style>\n",
       "    pre {\n",
       "        white-space: pre-wrap;\n",
       "    }\n",
       "  </style>\n",
       "  "
      ],
      "text/plain": [
       "<IPython.core.display.HTML object>"
      ]
     },
     "metadata": {},
     "output_type": "display_data"
    },
    {
     "name": "stdout",
     "output_type": "stream",
     "text": [
      "Mounted at /content/drive\n"
     ]
    }
   ],
   "source": [
    "from google.colab import drive\n",
    "drive.mount('/content/drive')"
   ]
  },
  {
   "cell_type": "code",
   "execution_count": 18,
   "metadata": {
    "colab": {
     "base_uri": "https://localhost:8080/",
     "height": 17
    },
    "id": "bUri92y5fxFD",
    "outputId": "341869a6-e3fe-4d69-a780-f4ccac5a96f7"
   },
   "outputs": [
    {
     "data": {
      "text/html": [
       "\n",
       "  <style>\n",
       "    pre {\n",
       "        white-space: pre-wrap;\n",
       "    }\n",
       "  </style>\n",
       "  "
      ],
      "text/plain": [
       "<IPython.core.display.HTML object>"
      ]
     },
     "metadata": {},
     "output_type": "display_data"
    }
   ],
   "source": [
    "manifesto_rw = SimpleDirectoryReader(input_dir='/content/drive/MyDrive/AIDSL/manifesto_rw').load_data()"
   ]
  },
  {
   "cell_type": "code",
   "execution_count": 11,
   "metadata": {
    "colab": {
     "base_uri": "https://localhost:8080/",
     "height": 17
    },
    "id": "0SBObIuIu2gP",
    "outputId": "ffb5a4f8-09e0-42e7-cb7b-cb2b50e9670c"
   },
   "outputs": [
    {
     "data": {
      "text/html": [
       "\n",
       "  <style>\n",
       "    pre {\n",
       "        white-space: pre-wrap;\n",
       "    }\n",
       "  </style>\n",
       "  "
      ],
      "text/plain": [
       "<IPython.core.display.HTML object>"
      ]
     },
     "metadata": {},
     "output_type": "display_data"
    }
   ],
   "source": [
    "manifesto_sp = SimpleDirectoryReader(input_dir='/content/drive/MyDrive/AIDSL/manifesto_sp').load_data()\n",
    "manifesto_akd = SimpleDirectoryReader(input_dir='/content/drive/MyDrive/AIDSL/manifesto_akd').load_data()"
   ]
  },
  {
   "cell_type": "code",
   "execution_count": 19,
   "metadata": {
    "colab": {
     "base_uri": "https://localhost:8080/",
     "height": 35
    },
    "id": "1tjrMQ9yIAzb",
    "outputId": "b01c939d-4231-4080-fd45-3da6534c6b06"
   },
   "outputs": [
    {
     "data": {
      "text/html": [
       "\n",
       "  <style>\n",
       "    pre {\n",
       "        white-space: pre-wrap;\n",
       "    }\n",
       "  </style>\n",
       "  "
      ],
      "text/plain": [
       "<IPython.core.display.HTML object>"
      ]
     },
     "metadata": {},
     "output_type": "display_data"
    },
    {
     "data": {
      "text/plain": [
       "76"
      ]
     },
     "execution_count": 19,
     "metadata": {},
     "output_type": "execute_result"
    }
   ],
   "source": [
    "len(manifesto_rw)"
   ]
  },
  {
   "cell_type": "code",
   "execution_count": 21,
   "metadata": {
    "colab": {
     "base_uri": "https://localhost:8080/",
     "height": 392
    },
    "id": "LBKMzlMbfFir",
    "outputId": "c60833bd-949c-493b-d3ed-b2b7baef0910"
   },
   "outputs": [
    {
     "data": {
      "text/html": [
       "\n",
       "  <style>\n",
       "    pre {\n",
       "        white-space: pre-wrap;\n",
       "    }\n",
       "  </style>\n",
       "  "
      ],
      "text/plain": [
       "<IPython.core.display.HTML object>"
      ]
     },
     "metadata": {},
     "output_type": "display_data"
    },
    {
     "name": "stdout",
     "output_type": "stream",
     "text": [
      "For Us, the Homemakers\n",
      "TWO YEARS OF PROGRESS\n",
      "Housing and Land Initiatives\n",
      "• The “Urumaya” program aims to provide land ownership to 2 million \n",
      "families, covering nearly 30% of Sri Lanka’s 6.8 million households.\n",
      "• The “Randora” project is set to grant ownership of flats in Colombo to \n",
      "250,000 families.\n",
      "• The “Bharatha-Lanka” housing project, supported by Indian aid, is \n",
      "dedicated to rebuilding homes for displaced people in the Northern and \n",
      "Eastern regions.\n",
      "• The “Saumya Bhoomi” initiative will allocate 10-perch plots of land to \n",
      "176,000 families in the plantation sector.\n",
      "• A housing loan program offering up to Rs. 10 million for Sri Lankans \n",
      "employed abroad.\n",
      "Clean Water\n",
      "• The Anuradhapura North Water Supply Project providing clean drinking \n",
      "water to 80,000 families.\n",
      "• The “A River for Jaffna” Water Supply Project delivering clean drinking \n",
      "water to 300,000 individuals.\n",
      "• The Kegalle “Asupini Ella” Water Supply Project ensuring clean drinking \n",
      "water for 169,000 people.\n"
     ]
    }
   ],
   "source": [
    "print(manifesto_rw[5].get_content())"
   ]
  },
  {
   "cell_type": "markdown",
   "metadata": {
    "id": "eQnnhjfrwHph"
   },
   "source": [
    "### Setup Baseline Query Engine\n",
    "\n",
    "We first setup a top-k query engine."
   ]
  },
  {
   "cell_type": "code",
   "execution_count": 22,
   "metadata": {
    "colab": {
     "base_uri": "https://localhost:8080/",
     "height": 17
    },
    "id": "rQlRoP0fvLdK",
    "outputId": "88a19768-b0af-4975-d0d1-ba44347fde0b"
   },
   "outputs": [
    {
     "data": {
      "text/html": [
       "\n",
       "  <style>\n",
       "    pre {\n",
       "        white-space: pre-wrap;\n",
       "    }\n",
       "  </style>\n",
       "  "
      ],
      "text/plain": [
       "<IPython.core.display.HTML object>"
      ]
     },
     "metadata": {},
     "output_type": "display_data"
    }
   ],
   "source": [
    "# setup baseline index\n",
    "base_index = VectorStoreIndex.from_documents(manifesto_sp + manifesto_akd + manifesto_rw)\n",
    "base_engine = base_index.as_query_engine(similarity_top_k=4)"
   ]
  },
  {
   "cell_type": "code",
   "execution_count": 23,
   "metadata": {
    "colab": {
     "base_uri": "https://localhost:8080/",
     "height": 71
    },
    "id": "ZiJEfuRtwF0S",
    "outputId": "db11c1a7-379c-4c1c-ff1b-b4dfbb772245"
   },
   "outputs": [
    {
     "data": {
      "text/html": [
       "\n",
       "  <style>\n",
       "    pre {\n",
       "        white-space: pre-wrap;\n",
       "    }\n",
       "  </style>\n",
       "  "
      ],
      "text/plain": [
       "<IPython.core.display.HTML object>"
      ]
     },
     "metadata": {},
     "output_type": "display_data"
    },
    {
     "name": "stdout",
     "output_type": "stream",
     "text": [
      "Ranil Wickremesinghe plans to reduce taxes by proposing to increase the gap between the present tax slabs and to amend tax percentages. Additionally, he aims to provide tax-free service incentives to professionals in the future and systematically abolish indirect taxes within the next two years.\n"
     ]
    }
   ],
   "source": [
    "response = base_engine.query(\"How Ranil wickramasinghe plan on reducing taxes?\")\n",
    "print(str(response))"
   ]
  },
  {
   "cell_type": "code",
   "execution_count": 24,
   "metadata": {
    "colab": {
     "base_uri": "https://localhost:8080/",
     "height": 35
    },
    "id": "vQrb3rWzgFnf",
    "outputId": "4624b5fb-ef06-4e23-ad86-7a35d2a5f9d8"
   },
   "outputs": [
    {
     "data": {
      "text/html": [
       "\n",
       "  <style>\n",
       "    pre {\n",
       "        white-space: pre-wrap;\n",
       "    }\n",
       "  </style>\n",
       "  "
      ],
      "text/plain": [
       "<IPython.core.display.HTML object>"
      ]
     },
     "metadata": {},
     "output_type": "display_data"
    },
    {
     "name": "stdout",
     "output_type": "stream",
     "text": [
      "4\n"
     ]
    }
   ],
   "source": [
    "print(len(response.source_nodes))"
   ]
  },
  {
   "cell_type": "code",
   "execution_count": 25,
   "metadata": {
    "colab": {
     "base_uri": "https://localhost:8080/",
     "height": 1000
    },
    "id": "zf7af3m3gCPt",
    "outputId": "3a34e099-a1c5-4661-f19a-254d2905b271"
   },
   "outputs": [
    {
     "data": {
      "text/html": [
       "\n",
       "  <style>\n",
       "    pre {\n",
       "        white-space: pre-wrap;\n",
       "    }\n",
       "  </style>\n",
       "  "
      ],
      "text/plain": [
       "<IPython.core.display.HTML object>"
      ]
     },
     "metadata": {},
     "output_type": "display_data"
    },
    {
     "name": "stdout",
     "output_type": "stream",
     "text": [
      "10\n",
      "MONETARY AND  \n",
      "EXCHANGE RATE \n",
      "POLICY\n",
      "We will respect the autonomy of the Central \n",
      "Bank of Sri Lanka (CBSL) provided by the \n",
      "new Act but hold the bank fully accountable \n",
      "for meeting its inflation target. Furthermore, \n",
      "we will help ensure low and stable interest \n",
      "rates, an internationally competitive foreign \n",
      "exchange rate..\n",
      "ACHIEVING A \n",
      "REVENUE GROWTH\n",
      "The solution to increase government \n",
      "revenue is not confined to raising taxes. One \n",
      "of our first acts will be to introduce digital \n",
      "technology to increase revenue, minimize \n",
      "expenditure and corruption. We will revise \n",
      "the unfair burden sharing structure of the \n",
      "IMF supported tax code revision that is \n",
      "forcing professionals to seek employment \n",
      "abroad. \n",
      "Some highlights of our revised structure that \n",
      "will not disturb the overall revenue targets \n",
      "but will reduce the heavy burden on middle-\n",
      "class are: \n",
      " yPersonal income tax: Personal income \n",
      "tax after the Tax-free slab of Rs 100,000 \n",
      "per month will start at just 1% and \n",
      "increase up to 24% income up to around \n",
      "half a million per month. Thereafter, \n",
      "current rates will apply for high income \n",
      "earners. \n",
      " yCorporate income tax: We intend \n",
      "reducing up to 6% from the present 30% \n",
      "rate for profits on exports and introduce \n",
      "15% Base Erosion and Profit Shifting \n",
      "(BEPS) minimum alternate tax for \n",
      "multinational companies. \n",
      " yVAT: We intend to reduce VAT to 15% \n",
      "once tax compliance improves through \n",
      "the use of Public Digital Infrastructure to widening the tax net. Certain identified \n",
      "items in addition to essential food as \n",
      "consumables and inputs shall be made \n",
      "zero rated for VAT . \n",
      " yExcise tax on cigarettes and alcohol and \n",
      "taxes on casinos will be adjusted to fund \n",
      "tax reductions. \n",
      " yA guaranteed up to 15% savings interest \n",
      "rate will be provided for senior citizen \n",
      "savings. \n",
      "EXPENDITURE \n",
      "CONTROL\n",
      "Although the IMF programme has focused \n",
      "on increasing revenue, it has not adequately \n",
      "addressed government expenditure control. \n",
      "Therefore, our economic vision aims to \n",
      "control wasteful government spending and \n",
      "corruption. This includes reforming state \n",
      "enterprises. Funds so saved will be utilized \n",
      "to implement a social safety net for the \n",
      "distressed population and to strengthen \n",
      "education and health sectors. \n",
      "We will use data-based planning to control \n",
      "government expenditure and strengthen \n",
      "transparency and accountability of \n",
      "government spending to increase public \n",
      "trust.\n",
      "STIMULATING \n",
      "ECONOMIC GROWTH\n",
      "Our government will be committed to \n",
      "transforming Sri Lanka into a globally \n",
      "connected social market economy, with \n",
      "private enterprise, both large and small, \n",
      "as the principal driver of growth. This \n",
      "transformation requires two key actions: \n",
      "enhancing global economic integration \n",
      "through trade liberalization and foreign \n",
      "direct investment and unshackling domestic \n",
      "markets, including product and labor \n",
      "markets. Ensuring effective market signals \n",
      "will enable full private sector engagement in \n",
      "national development.\n"
     ]
    }
   ],
   "source": [
    "print(response.source_nodes[0].get_content())"
   ]
  },
  {
   "cell_type": "code",
   "execution_count": 26,
   "metadata": {
    "colab": {
     "base_uri": "https://localhost:8080/",
     "height": 88
    },
    "id": "63p3wdqlwOze",
    "outputId": "fdd9fe1e-303f-4891-aa76-021c106b4d4d"
   },
   "outputs": [
    {
     "data": {
      "text/html": [
       "\n",
       "  <style>\n",
       "    pre {\n",
       "        white-space: pre-wrap;\n",
       "    }\n",
       "  </style>\n",
       "  "
      ],
      "text/plain": [
       "<IPython.core.display.HTML object>"
      ]
     },
     "metadata": {},
     "output_type": "display_data"
    },
    {
     "name": "stdout",
     "output_type": "stream",
     "text": [
      "Sajith, Anura, and Ranil Wickramasinghe have different approaches to tax policies. Sajith emphasizes progressive tax reforms to reduce the burden on low-income earners and increase taxes on high-income individuals and corporations. Anura advocates for simplifying the tax system and reducing tax rates to stimulate economic growth. On the other hand, Ranil Wickramasinghe focuses on a balanced approach, aiming to maintain a stable tax environment while implementing targeted tax incentives to promote investment and economic recovery.\n"
     ]
    }
   ],
   "source": [
    "response = base_engine.query(\"Compare and contrast the approaches for tax of both candidates Sajith, Anura and Ranil Wickramasinghe?\")\n",
    "print(str(response))"
   ]
  },
  {
   "cell_type": "code",
   "execution_count": 27,
   "metadata": {
    "colab": {
     "base_uri": "https://localhost:8080/",
     "height": 1000
    },
    "collapsed": true,
    "id": "i4NOGKkw4RUT",
    "jupyter": {
     "outputs_hidden": true
    },
    "outputId": "43a48b50-bb05-4e69-c76e-a32a08a3ec02",
    "tags": []
   },
   "outputs": [
    {
     "data": {
      "text/html": [
       "\n",
       "  <style>\n",
       "    pre {\n",
       "        white-space: pre-wrap;\n",
       "    }\n",
       "  </style>\n",
       "  "
      ],
      "text/plain": [
       "<IPython.core.display.HTML object>"
      ]
     },
     "metadata": {},
     "output_type": "display_data"
    },
    {
     "name": "stdout",
     "output_type": "stream",
     "text": [
      "page_label: 7\n",
      "file_name: manifesto_rw_new.pdf\n",
      "file_path: /content/drive/MyDrive/AIDSL/manifesto_rw/manifesto_rw_new.pdf\n",
      "file_type: application/pdf\n",
      "file_size: 292134\n",
      "creation_date: 2024-09-17\n",
      "last_modified_date: 2024-09-17\n",
      "\n",
      "A\n",
      "nation\n",
      "can\n",
      "only\n",
      "be\n",
      "built\n",
      "and\n",
      "transformed\n",
      "through\n",
      "visionary\n",
      "thinking\n",
      "and\n",
      "action,\n",
      "not\n",
      "merely\n",
      "by\n",
      "words.\n",
      "He\n",
      "has\n",
      "proven\n",
      "it\n",
      "within\n",
      "the\n",
      "past\n",
      "two\n",
      "years.\n",
      "People\n",
      "who\n",
      "were\n",
      "stuck\n",
      "in\n",
      "fuel\n",
      "queues\n",
      "then\n",
      "are\n",
      "now\n",
      "laughing\n",
      "in\n",
      "dansal\n",
      "queues.\n",
      "Pause\n",
      "for\n",
      "a\n",
      "moment\n",
      "and\n",
      "compare\n",
      "the\n",
      "present\n",
      "situation\n",
      "with\n",
      "the\n",
      "state\n",
      "of\n",
      "the\n",
      "country\n",
      "two\n",
      "years\n",
      "back.\n",
      "He\n",
      "accepted\n",
      "the\n",
      "enormous\n",
      "challenge\n",
      "of\n",
      "crossing\n",
      "over\n",
      "an\n",
      "arduous\n",
      "rope\n",
      "bridge\n",
      "of\n",
      "economic\n",
      "uncertainty.\n",
      "He\n",
      "finished\n",
      "what\n",
      "he\n",
      "started,\n",
      "he\n",
      "completed\n",
      "what\n",
      "he\n",
      "took\n",
      "responsibility\n",
      "for.\n",
      "He\n",
      "worked\n",
      "according\n",
      "to\n",
      "a\n",
      "plan.\n",
      "He\n",
      "had\n",
      "a\n",
      "far-sighted\n",
      "vision.\n",
      "During\n",
      "the\n",
      "past\n",
      "two\n",
      "years,\n",
      "he\n",
      "introduced\n",
      "new\n",
      "Acts\n",
      "unlike\n",
      "any\n",
      "other\n",
      "President.\n",
      "New\n",
      "laws\n",
      "were\n",
      "passed\n",
      "covering\n",
      "the\n",
      "areas\n",
      "that\n",
      "were\n",
      "never\n",
      "touched.\n",
      "Within\n",
      "the\n",
      "aim\n",
      "of\n",
      "directing\n",
      "the\n",
      "country\n",
      "in\n",
      "the\n",
      "right\n",
      "direction,\n",
      "he\n",
      "has\n",
      "created\n",
      "approximately\n",
      "one\n",
      "hundred\n",
      "(yes,\n",
      "100!)\n",
      "laws\n",
      "in\n",
      "the\n",
      "Parliament\n",
      "so\n",
      "far.\n",
      "The\n",
      "Anti-corruption\n",
      "Act,\n",
      "the\n",
      "Central\n",
      "Bank\n",
      "Act,\n",
      "the\n",
      "Election\n",
      "Expenditure\n",
      "Regulations,\n",
      "the\n",
      "Public\n",
      "Debt\n",
      "Management\n",
      "Act,\n",
      "the\n",
      "Truth\n",
      "and\n",
      "Reconciliation\n",
      "Act,\n",
      "the\n",
      "Online\n",
      "Safety\n",
      "Act,\n",
      "the\n",
      "Public\n",
      "Debt\n",
      "Act,\n",
      "the\n",
      "Electricity\n",
      "Act,\n",
      "the\n",
      "Women\n",
      "Empowerment\n",
      "Act,\n",
      "the\n",
      "Public\n",
      "Finance\n",
      "Management\n",
      "Act,\n",
      "the\n",
      "Economic\n",
      "Transformation\n",
      "Act,\n",
      "are\n",
      "some\n",
      "of\n",
      "the\n",
      "crucial\n",
      "Acts\n",
      "introduced\n",
      "by\n",
      "him.\n",
      "The\n",
      "main\n",
      "candidates\n",
      "contesting\n",
      "this\n",
      "Presidential\n",
      "Election\n",
      "have\n",
      "held\n",
      "various\n",
      "ministerial\n",
      "positions\n",
      "under\n",
      "different\n",
      "governments.\n",
      "Some\n",
      "have\n",
      "even\n",
      "been\n",
      "Leader\n",
      "of\n",
      "the\n",
      "Opposition\n",
      "and\n",
      "the\n",
      "Chief\n",
      "Opposition\n",
      "Whip.\n",
      "Among\n",
      "them,\n",
      "Ranil\n",
      "remains\n",
      "a\n",
      "gleaming\n",
      "beacon\n",
      "who\n",
      "has\n",
      "placed\n",
      "his\n",
      "seal\n",
      "in\n",
      "the\n",
      "history\n",
      "of\n",
      "Sri\n",
      "Lanka.\n",
      "It\n",
      "was\n",
      "during\n",
      "his\n",
      "time\n",
      "as\n",
      "the\n",
      "Minister\n",
      "of\n",
      "Youth,\n",
      "that\n",
      "this\n",
      "Ministry\n",
      "of\n",
      "Youth\n",
      "saw\n",
      "its\n",
      "golden\n",
      "years.\n",
      "When\n",
      "he\n",
      "was\n",
      "the\n",
      "Minister\n",
      "of\n",
      "Education,\n",
      "the\n",
      "Ministry\n",
      "was\n",
      "at\n",
      "its\n",
      "peak.\n",
      "The\n",
      "country\n",
      "saw\n",
      "growth\n",
      "in\n",
      "all\n",
      "its\n",
      "industries\n",
      "across\n",
      "the\n",
      "island\n",
      "when\n",
      "he\n",
      "was\n",
      "the\n",
      "Minister\n",
      "of\n",
      "Industries.\n",
      "The\n",
      "economy\n",
      "of\n",
      "the\n",
      "country\n",
      "took\n",
      "a\n",
      "new\n",
      "turn\n",
      "during\n",
      "his\n",
      "time\n",
      "as\n",
      "the\n",
      "Prime\n",
      "Minister\n",
      "and\n",
      "the\n",
      "Minister\n",
      "of\n",
      "Economic\n",
      "Policies.\n",
      "Which\n",
      "other\n",
      "presidential\n",
      "candidate\n",
      "has\n",
      "such\n",
      "an\n",
      "illustrious\n",
      "past?\n",
      "Yes,\n",
      "he\n",
      "held\n",
      "the\n",
      "post\n",
      "of\n",
      "Prime\n",
      "Minister\n",
      "several\n",
      "times,\n",
      "but\n",
      "there\n",
      "was\n",
      "always\n",
      "a\n",
      "President\n",
      "above\n",
      "him.\n",
      "Two\n",
      "years\n",
      "ago,\n",
      "when\n",
      "he\n",
      "became\n",
      "the\n",
      "President\n",
      "for\n",
      "the\n",
      "first\n",
      "time,\n",
      "he\n",
      "was\n",
      "able\n",
      "to\n",
      "perform\n",
      "his\n",
      "duties\n",
      "towards\n",
      "the\n",
      "country\n",
      "independently\n",
      "and\n",
      "drive\n",
      "us\n",
      "towards\n",
      "development.\n",
      "He\n",
      "recovered\n",
      "the\n",
      "nation\n",
      "from\n",
      "a\n",
      "state\n",
      "of\n",
      "misery\n",
      "within\n",
      "just\n",
      "two\n",
      "years\n",
      "-\n",
      "an\n",
      "unbelievable\n",
      "achievement.\n",
      "He\n",
      "is\n",
      "the\n",
      "only\n",
      "person\n",
      "who\n",
      "has\n",
      "proven\n",
      "himself\n",
      "with\n",
      "action,\n",
      "not\n",
      "mere\n",
      "empty\n",
      "words.\n",
      "Many\n",
      "people\n",
      "criticize\n",
      "his\n",
      "journey\n",
      "in\n",
      "public\n",
      "but\n",
      "sing\n",
      "his\n",
      "praises\n",
      "in\n",
      "private.\n"
     ]
    }
   ],
   "source": [
    "print(response.source_nodes[3].get_content(metadata_mode=\"all\"))"
   ]
  },
  {
   "cell_type": "code",
   "execution_count": 40,
   "metadata": {
    "colab": {
     "base_uri": "https://localhost:8080/",
     "height": 106
    },
    "id": "LHpKROfh4YFW",
    "outputId": "56362384-33cd-449f-81a3-00267ddb63a5"
   },
   "outputs": [
    {
     "data": {
      "text/html": [
       "\n",
       "  <style>\n",
       "    pre {\n",
       "        white-space: pre-wrap;\n",
       "    }\n",
       "  </style>\n",
       "  "
      ],
      "text/plain": [
       "<IPython.core.display.HTML object>"
      ]
     },
     "metadata": {},
     "output_type": "display_data"
    },
    {
     "name": "stdout",
     "output_type": "stream",
     "text": [
      "Sub question: What are Ranil Wickramasinghe's plans for reducing taxes?\n",
      "Response: Ranil Wickramasinghe's plans for reducing taxes include introducing digital technology to increase revenue, minimizing expenditure and corruption, revising the tax code to reduce the burden on the middle class, reducing corporate income tax rates for profits on exports, introducing a minimum alternate tax for multinational companies, reducing VAT once tax compliance improves, and adjusting excise tax on cigarettes and alcohol to fund tax reductions.\n"
     ]
    }
   ],
   "source": [
    "print(response.source_nodes[2].get_content(metadata_mode=\"all\"))"
   ]
  },
  {
   "cell_type": "markdown",
   "metadata": {
    "id": "kaDsxUkyLCQW"
   },
   "source": [
    "## Setup SubQuerry"
   ]
  },
  {
   "cell_type": "code",
   "execution_count": 29,
   "metadata": {
    "colab": {
     "base_uri": "https://localhost:8080/",
     "height": 17
    },
    "id": "kXO_0Z3qu4FU",
    "outputId": "d04d6696-ee1e-472c-9ac9-898f92013f39"
   },
   "outputs": [
    {
     "data": {
      "text/html": [
       "\n",
       "  <style>\n",
       "    pre {\n",
       "        white-space: pre-wrap;\n",
       "    }\n",
       "  </style>\n",
       "  "
      ],
      "text/plain": [
       "<IPython.core.display.HTML object>"
      ]
     },
     "metadata": {},
     "output_type": "display_data"
    }
   ],
   "source": [
    "manifesto_sp_index = VectorStoreIndex.from_documents(manifesto_sp)"
   ]
  },
  {
   "cell_type": "code",
   "execution_count": 30,
   "metadata": {
    "colab": {
     "base_uri": "https://localhost:8080/",
     "height": 17
    },
    "id": "8yZiz7Qou8TI",
    "outputId": "9a725cb8-5e74-4693-b39b-a2efc432acd7"
   },
   "outputs": [
    {
     "data": {
      "text/html": [
       "\n",
       "  <style>\n",
       "    pre {\n",
       "        white-space: pre-wrap;\n",
       "    }\n",
       "  </style>\n",
       "  "
      ],
      "text/plain": [
       "<IPython.core.display.HTML object>"
      ]
     },
     "metadata": {},
     "output_type": "display_data"
    }
   ],
   "source": [
    "manifesto_akd_index = VectorStoreIndex.from_documents(manifesto_akd)"
   ]
  },
  {
   "cell_type": "code",
   "execution_count": 31,
   "metadata": {
    "colab": {
     "base_uri": "https://localhost:8080/",
     "height": 17
    },
    "id": "XtvsyaShLJ7E",
    "outputId": "a9042e83-ded5-49ac-87e1-eb42c9a80448"
   },
   "outputs": [
    {
     "data": {
      "text/html": [
       "\n",
       "  <style>\n",
       "    pre {\n",
       "        white-space: pre-wrap;\n",
       "    }\n",
       "  </style>\n",
       "  "
      ],
      "text/plain": [
       "<IPython.core.display.HTML object>"
      ]
     },
     "metadata": {},
     "output_type": "display_data"
    }
   ],
   "source": [
    "manifesto_rw_index = VectorStoreIndex.from_documents(manifesto_rw)"
   ]
  },
  {
   "cell_type": "code",
   "execution_count": 32,
   "metadata": {
    "colab": {
     "base_uri": "https://localhost:8080/",
     "height": 17
    },
    "id": "etuu5gZyu9hu",
    "outputId": "19845cb7-4c74-4f96-be61-b0c26c86838c"
   },
   "outputs": [
    {
     "data": {
      "text/html": [
       "\n",
       "  <style>\n",
       "    pre {\n",
       "        white-space: pre-wrap;\n",
       "    }\n",
       "  </style>\n",
       "  "
      ],
      "text/plain": [
       "<IPython.core.display.HTML object>"
      ]
     },
     "metadata": {},
     "output_type": "display_data"
    }
   ],
   "source": [
    "manifesto_sp_engine = manifesto_sp_index.as_query_engine(similarity_top_k=2)"
   ]
  },
  {
   "cell_type": "code",
   "execution_count": 33,
   "metadata": {
    "colab": {
     "base_uri": "https://localhost:8080/",
     "height": 17
    },
    "id": "16R7K_GFu-tJ",
    "outputId": "353575ed-a8b0-48a2-9850-06a2f43d867c"
   },
   "outputs": [
    {
     "data": {
      "text/html": [
       "\n",
       "  <style>\n",
       "    pre {\n",
       "        white-space: pre-wrap;\n",
       "    }\n",
       "  </style>\n",
       "  "
      ],
      "text/plain": [
       "<IPython.core.display.HTML object>"
      ]
     },
     "metadata": {},
     "output_type": "display_data"
    }
   ],
   "source": [
    "manifesto_akd_engine = manifesto_akd_index.as_query_engine(similarity_top_k=2)"
   ]
  },
  {
   "cell_type": "code",
   "execution_count": 34,
   "metadata": {
    "colab": {
     "base_uri": "https://localhost:8080/",
     "height": 17
    },
    "id": "8nZaojDILQFK",
    "outputId": "500c3f9f-dd65-4b31-ae9d-e9b9ed7deb6e"
   },
   "outputs": [
    {
     "data": {
      "text/html": [
       "\n",
       "  <style>\n",
       "    pre {\n",
       "        white-space: pre-wrap;\n",
       "    }\n",
       "  </style>\n",
       "  "
      ],
      "text/plain": [
       "<IPython.core.display.HTML object>"
      ]
     },
     "metadata": {},
     "output_type": "display_data"
    }
   ],
   "source": [
    "manifesto_rw_engine = manifesto_rw_index.as_query_engine(similarity_top_k=2)"
   ]
  },
  {
   "cell_type": "code",
   "execution_count": 35,
   "metadata": {
    "colab": {
     "base_uri": "https://localhost:8080/",
     "height": 17
    },
    "id": "IQW1b5uXu-ve",
    "outputId": "7b002be1-df18-41fe-bc6d-8ed2a7f1b08b"
   },
   "outputs": [
    {
     "data": {
      "text/html": [
       "\n",
       "  <style>\n",
       "    pre {\n",
       "        white-space: pre-wrap;\n",
       "    }\n",
       "  </style>\n",
       "  "
      ],
      "text/plain": [
       "<IPython.core.display.HTML object>"
      ]
     },
     "metadata": {},
     "output_type": "display_data"
    }
   ],
   "source": [
    "query_engine_tools = [\n",
    "    QueryEngineTool(\n",
    "        query_engine=manifesto_sp_engine,\n",
    "        metadata=ToolMetadata(\n",
    "            name=\"manifesto_sp\",\n",
    "            description=\"How Sajith Premadasa plan on reducing taxes?\",\n",
    "        ),\n",
    "    ),\n",
    "    QueryEngineTool(\n",
    "        query_engine=manifesto_akd_engine,\n",
    "        metadata=ToolMetadata(\n",
    "            name=\"manifesto_akd\",\n",
    "            description=\"How Anura Kumara Dissanayake plan on reducing taxes?\",\n",
    "        ),\n",
    "    ),\n",
    "    QueryEngineTool(\n",
    "        query_engine=manifesto_sp_engine,\n",
    "        metadata=ToolMetadata(\n",
    "            name=\"manifesto_rw_new\",\n",
    "            description=\"How Ranil Wickramasinghe plan on reducing taxes?\",\n",
    "        ),\n",
    "    ),\n",
    "]\n",
    "\n",
    "s_engine = SubQuestionQueryEngine.from_defaults(query_engine_tools=query_engine_tools)"
   ]
  },
  {
   "cell_type": "markdown",
   "metadata": {
    "id": "9D9koZgyv-kD"
   },
   "source": [
    "### Try with some Queries"
   ]
  },
  {
   "cell_type": "code",
   "execution_count": 36,
   "metadata": {
    "colab": {
     "base_uri": "https://localhost:8080/",
     "height": 463
    },
    "id": "nnxo0qEewD91",
    "outputId": "555fdb54-71a8-4d9e-fb98-4fcd9efb7263"
   },
   "outputs": [
    {
     "data": {
      "text/html": [
       "\n",
       "  <style>\n",
       "    pre {\n",
       "        white-space: pre-wrap;\n",
       "    }\n",
       "  </style>\n",
       "  "
      ],
      "text/plain": [
       "<IPython.core.display.HTML object>"
      ]
     },
     "metadata": {},
     "output_type": "display_data"
    },
    {
     "name": "stdout",
     "output_type": "stream",
     "text": [
      "Generated 3 sub questions.\n",
      "\u001b[1;3;38;2;237;90;200m[manifesto_sp] Q: What are Sajith Premadasa's plans for reducing taxes?\n",
      "\u001b[0m\u001b[1;3;38;2;90;149;237m[manifesto_akd] Q: What are Anura Kumara Dissanayake's plans for reducing taxes?\n",
      "\u001b[0m\u001b[1;3;38;2;11;159;203m[manifesto_rw] Q: What are Ranil Wickramasinghe's plans for reducing taxes?\n",
      "\u001b[0m\u001b[1;3;38;2;90;149;237m[manifesto_akd] A: Anura Kumara Dissanayake plans to introduce a unique digital identification code for citizens to access public services, increase the annual tax threshold for individual income tax, broaden the tax base, increase the tax depreciation allowance for deductible expenses, introduce Point of Sales (POS) systems and digital invoicing for VAT collection, and categorize goods applicable for VAT with different tax rates for each category.\n",
      "\u001b[0m\u001b[1;3;38;2;237;90;200m[manifesto_sp] A: Sajith Premadasa plans to reduce taxes by introducing digital technology to increase revenue, minimize expenditure, and corruption. Additionally, he intends to revise the tax structure to reduce the burden on the middle class by adjusting personal income tax, corporate income tax, VAT, excise tax on cigarettes and alcohol, and taxes on casinos. He also plans to provide a guaranteed up to 15% savings interest rate for senior citizen savings.\n",
      "\u001b[0m\u001b[1;3;38;2;11;159;203m[manifesto_rw] A: Ranil Wickramasinghe's plans for reducing taxes include introducing digital technology to increase revenue, minimizing expenditure and corruption, revising the tax code to reduce the burden on the middle class, reducing corporate income tax rates for profits on exports, introducing a Base Erosion and Profit Shifting (BEPS) minimum alternate tax for multinational companies, reducing VAT once tax compliance improves, adjusting excise tax on cigarettes and alcohol, and providing a guaranteed up to 15% savings interest rate for senior citizen savings.\n",
      "\u001b[0mAll three candidates have plans to reduce taxes by introducing digital technology to increase revenue, minimize expenditure, and corruption. They also aim to revise the tax structure to reduce the burden on the middle class. However, they differ in their specific approaches. Sajith Premadasa plans to adjust personal income tax, corporate income tax, VAT, excise tax on cigarettes and alcohol, and taxes on casinos, as well as provide a guaranteed up to 15% savings interest rate for senior citizen savings. Anura Kumara Dissanayake intends to increase the annual tax threshold for individual income tax, broaden the tax base, increase the tax depreciation allowance for deductible expenses, introduce Point of Sales (POS) systems and digital invoicing for VAT collection, and categorize goods applicable for VAT with different tax rates for each category. Ranil Wickramasinghe, on the other hand, plans to reduce corporate income tax rates for profits on exports, introduce a Base Erosion and Profit Shifting (BEPS) minimum alternate tax for multinational companies, and adjust excise tax on cigarettes and alcohol, while also providing a guaranteed up to 15% savings interest rate for senior citizen savings.\n"
     ]
    }
   ],
   "source": [
    "response = s_engine.query(\"Compare and contrast the approaches for tax of the three candidates Sajith, Ranil and Anura?\")\n",
    "print(str(response))"
   ]
  },
  {
   "cell_type": "markdown",
   "metadata": {
    "id": "fet9gTFb5rD7"
   },
   "source": [
    "While the base query engine couldn't generate a proper response, here we see that the response is much more detailed."
   ]
  },
  {
   "cell_type": "markdown",
   "metadata": {
    "id": "asPR6_Ewwkov"
   },
   "source": [
    "Here's some other comparison queries."
   ]
  },
  {
   "cell_type": "code",
   "execution_count": 37,
   "metadata": {
    "colab": {
     "base_uri": "https://localhost:8080/",
     "height": 303
    },
    "id": "FnVZMsNj6IIR",
    "outputId": "95f5c333-5a3c-4458-e778-fc5ed3120b5a"
   },
   "outputs": [
    {
     "data": {
      "text/html": [
       "\n",
       "  <style>\n",
       "    pre {\n",
       "        white-space: pre-wrap;\n",
       "    }\n",
       "  </style>\n",
       "  "
      ],
      "text/plain": [
       "<IPython.core.display.HTML object>"
      ]
     },
     "metadata": {},
     "output_type": "display_data"
    },
    {
     "name": "stdout",
     "output_type": "stream",
     "text": [
      "Generated 3 sub questions.\n",
      "\u001b[1;3;38;2;237;90;200m[manifesto_sp] Q: What are Sajith Premadasa's plans for reducing taxes?\n",
      "\u001b[0m\u001b[1;3;38;2;90;149;237m[manifesto_akd] Q: What are Anura Kumara Dissanayake's plans for reducing taxes?\n",
      "\u001b[0m\u001b[1;3;38;2;11;159;203m[manifesto_rw] Q: What are Ranil Wickramasinghe's plans for reducing taxes?\n",
      "\u001b[0m\u001b[1;3;38;2;90;149;237m[manifesto_akd] A: Anura Kumara Dissanayake plans to introduce a unique digital identification code for citizens to access public services, increase the annual tax threshold for individual income tax, broaden the tax base, increase the tax depreciation allowance for deductible expenses, introduce Point of Sales (POS) systems and digital invoicing for VAT collection, and categorize goods applicable for VAT with different tax rates for each category.\n",
      "\u001b[0m\u001b[1;3;38;2;11;159;203m[manifesto_rw] A: Ranil Wickramasinghe's plans for reducing taxes include introducing digital technology to increase revenue, minimizing expenditure and corruption, revising the tax code to reduce the burden on the middle class, reducing corporate income tax rates for profits on exports, introducing a minimum alternate tax for multinational companies, reducing VAT once tax compliance improves, and adjusting excise tax on cigarettes and alcohol to fund tax reductions.\n",
      "\u001b[0m\u001b[1;3;38;2;237;90;200m[manifesto_sp] A: Sajith Premadasa plans to reduce taxes by introducing digital technology to increase revenue, minimize expenditure, and corruption. Additionally, he intends to revise the tax structure to reduce the burden on the middle class by adjusting personal income tax, corporate income tax, VAT, excise tax on cigarettes and alcohol, and taxes on casinos. He also plans to provide a guaranteed up to 15% savings interest rate for senior citizen savings.\n",
      "\u001b[0m"
     ]
    }
   ],
   "source": [
    "query_str = \"Tell me whose plans look solid and practical for a country like Sri Lanka is it Sajith Premasada, Ranil Wickramasinghe or Is it Anura Kumara Dissanayake\"\n",
    "base_response = base_engine.query(query_str)\n",
    "response = s_engine.query(query_str)"
   ]
  },
  {
   "cell_type": "code",
   "execution_count": 38,
   "metadata": {
    "colab": {
     "base_uri": "https://localhost:8080/",
     "height": 124
    },
    "id": "h7ts7mD7wj8L",
    "outputId": "ba0fabc2-ab53-4aa6-f6f1-bfcfccbcf60e"
   },
   "outputs": [
    {
     "data": {
      "text/html": [
       "\n",
       "  <style>\n",
       "    pre {\n",
       "        white-space: pre-wrap;\n",
       "    }\n",
       "  </style>\n",
       "  "
      ],
      "text/plain": [
       "<IPython.core.display.HTML object>"
      ]
     },
     "metadata": {},
     "output_type": "display_data"
    },
    {
     "name": "stdout",
     "output_type": "stream",
     "text": [
      "Base query engine: Sajith Premadasa's plans look solid and practical for a country like Sri Lanka.\n",
      "\n",
      "\n",
      "Sub-question query engine: Anura Kumara Dissanayake's plans for reducing taxes appear solid and practical for a country like Sri Lanka.\n",
      "\n",
      "\n"
     ]
    }
   ],
   "source": [
    "print(f\"Base query engine: {str(base_response)}\\n\\n\")\n",
    "print(f\"Sub-question query engine: {str(response)}\\n\\n\")"
   ]
  },
  {
   "cell_type": "code",
   "execution_count": 39,
   "metadata": {
    "colab": {
     "base_uri": "https://localhost:8080/",
     "height": 803
    },
    "id": "ZusSaHMGiON-",
    "outputId": "8bbd6bef-30d5-4382-b6b8-3e85b0e857aa"
   },
   "outputs": [
    {
     "data": {
      "text/html": [
       "\n",
       "  <style>\n",
       "    pre {\n",
       "        white-space: pre-wrap;\n",
       "    }\n",
       "  </style>\n",
       "  "
      ],
      "text/plain": [
       "<IPython.core.display.HTML object>"
      ]
     },
     "metadata": {},
     "output_type": "display_data"
    },
    {
     "name": "stdout",
     "output_type": "stream",
     "text": [
      "page_label: 5\n",
      "file_name: manifesto_sp.pdf\n",
      "file_path: /content/drive/MyDrive/AIDSL/manifesto_sp/manifesto_sp.pdf\n",
      "file_type: application/pdf\n",
      "file_size: 20990443\n",
      "creation_date: 2024-09-17\n",
      "last_modified_date: 2024-09-17\n",
      "\n",
      "My fellow Sri Lankans,\n",
      "As we approach a defining moment in our nation’s political journey with the \n",
      "forthcoming Presidential election, I, Sajith Premadasa, proudly present this \n",
      "manifesto (Win for all), on behalf of the Samagi Jana Sandanaya (SJS) to outline \n",
      "our vision for a positive national transformation. \n",
      "The SJS is a new political force, with a vision to create a new Sri Lanka, by introducing \n",
      "a social market economy with social justice at its core. We believe a true democracy \n",
      "is one in which every citizen’s voice is heard.\n",
      "Therefore, our manifesto & economic vision is not just about statistical growth but \n",
      "about tangible prosperity in every segment of society. We will create a resilient \n",
      "and inclusive economy, combining the strength of free markets with a deep \n",
      "commitment to equality, to ensure no Sri Lankan is left behind. \n",
      "Another crucial pillar of our vision is the fight against corruption. Corruption has \n",
      "long been a stain on Sri Lanka and has ultimately led us to bankruptcy, undermining \n",
      "trust in government and robbing our citizens. The future SJS government will root \n",
      "out corruption by embedding transparency and accountability in every aspect of \n",
      "governance with the necessary system reforms. \n",
      "In our pursuit of prosperity, special attention will be provided to the crucial \n",
      "sectors of housing, healthcare and education. We will ensure every citizen can \n",
      "access quality housing. The healthcare sector, which is facing myriad crises, will \n",
      "be reinforced with professional and technological resources to create a healthy \n",
      "nation. The education sector will be revamped to build internationally competitive \n",
      "human capital, which can thrive in a rapidly changing world while contributing to \n",
      "the growth of Sri Lanka. \n",
      "Throughout history, nations have been developed with strong team leadership. \n",
      "This is why the SJS has assembled the most qualified and pragmatic, team of \n",
      "politicians to ensure that the ambitious goals in this manifesto are achieved.\n",
      " Let me end by stating that the SJS is more than just a new alliance; it is a movement \n",
      "for much-needed change, driven by the belief that Sri Lanka can and must finally \n",
      "realize its true potential. I seek your support in this election not just for myself \n",
      "as your candidate but for the vision we all share for a stronger, fairer, and more \n",
      "prosperous nation. Let us come together to, finally, create the Sri Lanka we all \n",
      "deserve.\n",
      "Sajith Premadasa\n",
      "Leader \n",
      "Samagi Jana Sandanya (SJS) 29th August 2024\n"
     ]
    }
   ],
   "source": [
    "print(base_response.source_nodes[3].get_content(metadata_mode=\"all\"))"
   ]
  },
  {
   "cell_type": "code",
   "execution_count": null,
   "metadata": {
    "id": "qWo6kbl6L1_T"
   },
   "outputs": [],
   "source": []
  }
 ],
 "metadata": {
  "colab": {
   "provenance": []
  },
  "kernelspec": {
   "display_name": "Python 3 (ipykernel)",
   "language": "python",
   "name": "python3"
  },
  "language_info": {
   "codemirror_mode": {
    "name": "ipython",
    "version": 3
   },
   "file_extension": ".py",
   "mimetype": "text/x-python",
   "name": "python",
   "nbconvert_exporter": "python",
   "pygments_lexer": "ipython3",
   "version": "3.11.5"
  }
 },
 "nbformat": 4,
 "nbformat_minor": 4
}

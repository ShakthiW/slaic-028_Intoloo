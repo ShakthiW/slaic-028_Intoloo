{
 "cells": [
  {
   "cell_type": "markdown",
   "id": "03f552a6-eddc-47c9-9c29-1d14b14b9eb7",
   "metadata": {},
   "source": [
    "## With Google Gemini Pro"
   ]
  },
  {
   "cell_type": "code",
   "execution_count": 1,
   "id": "b5b91f68-5cbd-4f5b-a730-c40122fd7e4d",
   "metadata": {
    "tags": []
   },
   "outputs": [],
   "source": [
    "# !pip install -q -U google-generativeai"
   ]
  },
  {
   "cell_type": "code",
   "execution_count": 2,
   "id": "f7f2792c-f1cd-4e46-a319-5a36846e513b",
   "metadata": {
    "tags": []
   },
   "outputs": [],
   "source": [
    "# Necessary packages\n",
    "import pathlib\n",
    "import textwrap\n",
    "import pandas as pd\n",
    "import os\n",
    "\n",
    "import google.generativeai as genai\n",
    "\n",
    "from IPython.display import display\n",
    "from IPython.display import Markdown"
   ]
  },
  {
   "cell_type": "code",
   "execution_count": null,
   "id": "d11c0d87-b586-4117-93c6-6f7ad026db67",
   "metadata": {},
   "outputs": [],
   "source": [
    "def to_markdown(text):\n",
    "  text = text.replace('•', '  *')\n",
    "  return Markdown(textwrap.indent(text, '> ', predicate=lambda _: True))"
   ]
  },
  {
   "cell_type": "code",
   "execution_count": null,
   "id": "9714c611-ad14-4b70-bae7-34285a014272",
   "metadata": {},
   "outputs": [],
   "source": [
    "GOOGLE_API_KEY=os.getenv('GOOGLE_API_KEY')\n",
    "\n",
    "genai.configure(api_key=GOOGLE_API_KEY)"
   ]
  },
  {
   "cell_type": "code",
   "execution_count": null,
   "id": "b4e787e2-9ac4-440a-9526-8c4ee59de707",
   "metadata": {},
   "outputs": [],
   "source": [
    "for m in genai.list_models():\n",
    "  if 'generateContent' in m.supported_generation_methods:\n",
    "    print(m.name)"
   ]
  },
  {
   "cell_type": "code",
   "execution_count": null,
   "id": "65d596ef-fba0-4f3a-95f5-68518cdc47c9",
   "metadata": {},
   "outputs": [],
   "source": [
    "model = genai.GenerativeModel('gemini-pro')"
   ]
  },
  {
   "cell_type": "code",
   "execution_count": null,
   "id": "3f47c283-15e1-46f1-880e-5123216056c1",
   "metadata": {},
   "outputs": [],
   "source": [
    "%%time\n",
    "response = model.generate_content(\"What is the meaning of life?\")\n",
    "\n",
    "to_markdown(response.text)"
   ]
  },
  {
   "cell_type": "code",
   "execution_count": 18,
   "id": "dc34dba4-ed4e-417a-9fad-507e91c83c7e",
   "metadata": {
    "tags": []
   },
   "outputs": [],
   "source": [
    "test_set = pd.read_csv(\"test_data.csv\")\n",
    "train_set = pd.read_csv(\"train_data.csv\")"
   ]
  },
  {
   "cell_type": "code",
   "execution_count": null,
   "id": "8ceed9f1-20a9-4d96-a98b-a93052b3e771",
   "metadata": {},
   "outputs": [],
   "source": [
    "test_set_sample = test_set.sample(20)\n",
    "\n",
    "test_set_sample['pred_label'] = ''\n",
    "\n",
    "test_set_sample"
   ]
  },
  {
   "cell_type": "code",
   "execution_count": null,
   "id": "89ae7ce3-b0ad-4372-a423-529f51db4614",
   "metadata": {},
   "outputs": [],
   "source": [
    "# Convert the DataFrame to JSON using the to_json() method\n",
    "json_data = test_set_sample[['clean_reviews','pred_label']].to_json(orient='records')\n",
    "\n",
    "# Print the JSON data\n",
    "print(json_data)"
   ]
  },
  {
   "cell_type": "code",
   "execution_count": null,
   "id": "dff790f1-6c8d-46ec-8d64-bfd72e59675f",
   "metadata": {},
   "outputs": [],
   "source": [
    "prompt = f\"\"\"\n",
    "You are an expert linguist, who is good at classifying presidential election tweet sentiments into Positive/Negative labels.\n",
    "Help me classify presidential election tweets into: Positive(label=1), and Negative(label=0).\n",
    "Tweets are provided between three back ticks.\n",
    "In your output, only return the Json code back as output - which is provided between three backticks.\n",
    "Your task is to update predicted labels under 'pred_label' in the Json code.\n",
    "Don't make any changes to Json code format, please.\n",
    "\n",
    "```\n",
    "{json_data}\n",
    "```\n",
    "\"\"\"\n",
    "\n",
    "print(prompt)"
   ]
  },
  {
   "cell_type": "code",
   "execution_count": null,
   "id": "7adec79e-1b19-4c79-91bc-5eefb639c817",
   "metadata": {},
   "outputs": [],
   "source": [
    "response = model.generate_content(prompt)\n",
    "\n",
    "print(response.text)"
   ]
  },
  {
   "cell_type": "code",
   "execution_count": null,
   "id": "12ff429f-b042-4970-b3e3-aa6881430689",
   "metadata": {},
   "outputs": [],
   "source": [
    "import json\n",
    "\n",
    "# Clean the data by stripping the backticks\n",
    "json_data = response.text.strip(\"`\")\n",
    "\n",
    "# Load the cleaned data and convert to DataFrame\n",
    "data = json.loads(json_data)\n",
    "df_sample = pd.DataFrame(data)\n",
    "\n",
    "df_sample"
   ]
  },
  {
   "cell_type": "code",
   "execution_count": null,
   "id": "16433ab7-16cc-4ef1-aa07-23e7d6e574aa",
   "metadata": {},
   "outputs": [],
   "source": [
    "# Overwrite pred_label from 'df' into pred_label in 'train_set_sample'\n",
    "test_set_sample['pred_label'] = df_sample['pred_label'].values\n",
    "\n",
    "test_set_sample"
   ]
  },
  {
   "cell_type": "code",
   "execution_count": null,
   "id": "2141b8b4-8576-4845-9e58-a66ea70c6cb4",
   "metadata": {},
   "outputs": [],
   "source": [
    "# Plotting confusion matrix on the predictions\n",
    "\n",
    "from sklearn.metrics import confusion_matrix\n",
    "\n",
    "y_true = test_set_sample[\"label\"]\n",
    "y_pred = test_set_sample[\"pred_label\"]\n",
    "\n",
    "confusion_matrix(y_true, y_pred)"
   ]
  },
  {
   "cell_type": "markdown",
   "id": "6485973d-8187-4ca6-ab45-e65127d77093",
   "metadata": {},
   "source": [
    "## Batching API Calls: Gemini API"
   ]
  },
  {
   "cell_type": "code",
   "execution_count": null,
   "id": "b5376d3e-5354-484a-b268-2cbf96c32b3d",
   "metadata": {},
   "outputs": [],
   "source": [
    "test_set.shape"
   ]
  },
  {
   "cell_type": "code",
   "execution_count": null,
   "id": "439d88bf-fd26-4ce0-b15b-69e10862f68e",
   "metadata": {},
   "outputs": [],
   "source": [
    "test_set_total = test_set.sample(100)\n",
    "\n",
    "test_set_total['pred_label'] = ''\n",
    "\n",
    "test_set_total"
   ]
  },
  {
   "cell_type": "code",
   "execution_count": null,
   "id": "79e78326-e953-43d6-894c-d6fa0c368c5c",
   "metadata": {},
   "outputs": [],
   "source": [
    "batches = []\n",
    "batch_size = 25\n",
    "\n",
    "for i in range(0, len(test_set_total), batch_size):\n",
    "  batches.append(test_set_total[i : i + batch_size])  # Append batches instead of assigning"
   ]
  },
  {
   "cell_type": "code",
   "execution_count": null,
   "id": "a8f0a659-aa71-4522-99e9-9258470c55fe",
   "metadata": {},
   "outputs": [],
   "source": [
    "import time\n",
    "\n",
    "def gemini_completion_function(batch,current_batch,total_batch):\n",
    "  \"\"\"Function works in three steps:\n",
    "  # Step-1: Convert the DataFrame to JSON using the to_json() method.\n",
    "  # Step-2: Preparing the Gemini Prompt\n",
    "  # Step-3: Calling Gemini API\n",
    "  \"\"\"\n",
    "\n",
    "  print(f\"Now processing batch#: {current_batch+1} of {total_batch}\")\n",
    "\n",
    "  json_data = batch[['clean_reviews','pred_label']].to_json(orient='records')\n",
    "\n",
    "  prompt = f\"\"\"\n",
    "  You are an expert linguist, who is good at classifying presidential election tweet sentiments into Positive/Negative labels.\n",
    "  Help me classify presidential election tweets into: Positive(label=1), and Negative(label=0).\n",
    "  Tweets are provided between three back ticks.\n",
    "  In your output, only return the Json code back as output - which is provided between three backticks.\n",
    "  Your task is to update predicted labels under 'pred_label' in the Json code.\n",
    "  Don't make any changes to Json code format, please.\n",
    "  Error handling instruction: In case a Customer Review violates API policy, please assign it default sentiment as Negative (label=0).\n",
    "\n",
    "  ```\n",
    "  {json_data}\n",
    "  ```\n",
    "  \"\"\"\n",
    "\n",
    "  print(prompt)\n",
    "  response = model.generate_content(prompt)\n",
    "  time.sleep(5)\n",
    "\n",
    "  return response"
   ]
  },
  {
   "cell_type": "code",
   "execution_count": null,
   "id": "e5cd9768-7375-41ba-b18d-f7c57f13b643",
   "metadata": {},
   "outputs": [],
   "source": [
    "batch_count = len(batches)\n",
    "responses = []\n",
    "\n",
    "for i in range(0,len(batches)):\n",
    "  responses.append(gemini_completion_function(batches[i],i,batch_count))"
   ]
  },
  {
   "cell_type": "code",
   "execution_count": null,
   "id": "e8fa8d92-ef40-419c-b4e2-2ce82b496dcc",
   "metadata": {},
   "outputs": [],
   "source": [
    "import json\n",
    "\n",
    "df_total = pd.DataFrame()  # Initialize an empty DataFrame\n",
    "\n",
    "for response in responses:\n",
    "  # Clean the data by stripping the backticks\n",
    "  json_data = response.text.strip(\"`\")\n",
    "\n",
    "  # Load the cleaned data and convert to DataFrame\n",
    "  data = json.loads(json_data)\n",
    "  df_temp = pd.DataFrame(data)\n",
    "\n",
    "  # Append the DataFrame to the final DataFrame\n",
    "  df_total = df_total.append(df_temp, ignore_index=True)\n",
    "\n",
    "print(df_total)  # Display the final DataFrame"
   ]
  },
  {
   "cell_type": "code",
   "execution_count": null,
   "id": "e164af58-d17d-47dc-aa38-21b18796bdd0",
   "metadata": {},
   "outputs": [],
   "source": [
    "# Overwrite pred_label from 'df' into pred_label in 'train_set_sample'\n",
    "\n",
    "test_set_total['pred_label'] = df_total['pred_label'].values\n",
    "test_set_total"
   ]
  },
  {
   "cell_type": "code",
   "execution_count": null,
   "id": "b95dd18e-03a2-4bf0-895d-c464ac24848c",
   "metadata": {},
   "outputs": [],
   "source": [
    "# Plotting confusion matrix on the predictions\n",
    "\n",
    "from sklearn.metrics import confusion_matrix\n",
    "\n",
    "y_true = test_set_total[\"label\"]\n",
    "y_pred = test_set_total[\"pred_label\"]\n",
    "\n",
    "confusion_matrix(y_true, y_pred)"
   ]
  },
  {
   "cell_type": "markdown",
   "id": "9ad7e2a9-7c5b-4f67-b0de-db8cb86ebb4d",
   "metadata": {},
   "source": [
    "## With OpenAI GPT model"
   ]
  },
  {
   "cell_type": "code",
   "execution_count": 3,
   "id": "013a3802-9d33-404e-aba0-bb1ba05af562",
   "metadata": {
    "collapsed": true,
    "jupyter": {
     "outputs_hidden": true
    },
    "tags": []
   },
   "outputs": [
    {
     "name": "stdout",
     "output_type": "stream",
     "text": [
      "Requirement already satisfied: openai==0.27.0 in /Users/shakthiraveen/anaconda3/lib/python3.11/site-packages (0.27.0)\n",
      "Requirement already satisfied: requests>=2.20 in /Users/shakthiraveen/anaconda3/lib/python3.11/site-packages (from openai==0.27.0) (2.31.0)\n",
      "Requirement already satisfied: tqdm in /Users/shakthiraveen/anaconda3/lib/python3.11/site-packages (from openai==0.27.0) (4.66.2)\n",
      "Requirement already satisfied: aiohttp in /Users/shakthiraveen/anaconda3/lib/python3.11/site-packages (from openai==0.27.0) (3.9.3)\n",
      "Requirement already satisfied: charset-normalizer<4,>=2 in /Users/shakthiraveen/anaconda3/lib/python3.11/site-packages (from requests>=2.20->openai==0.27.0) (2.0.4)\n",
      "Requirement already satisfied: idna<4,>=2.5 in /Users/shakthiraveen/anaconda3/lib/python3.11/site-packages (from requests>=2.20->openai==0.27.0) (3.4)\n",
      "Requirement already satisfied: urllib3<3,>=1.21.1 in /Users/shakthiraveen/anaconda3/lib/python3.11/site-packages (from requests>=2.20->openai==0.27.0) (1.26.16)\n",
      "Requirement already satisfied: certifi>=2017.4.17 in /Users/shakthiraveen/anaconda3/lib/python3.11/site-packages (from requests>=2.20->openai==0.27.0) (2024.2.2)\n",
      "Requirement already satisfied: aiosignal>=1.1.2 in /Users/shakthiraveen/anaconda3/lib/python3.11/site-packages (from aiohttp->openai==0.27.0) (1.2.0)\n",
      "Requirement already satisfied: attrs>=17.3.0 in /Users/shakthiraveen/anaconda3/lib/python3.11/site-packages (from aiohttp->openai==0.27.0) (22.1.0)\n",
      "Requirement already satisfied: frozenlist>=1.1.1 in /Users/shakthiraveen/anaconda3/lib/python3.11/site-packages (from aiohttp->openai==0.27.0) (1.3.3)\n",
      "Requirement already satisfied: multidict<7.0,>=4.5 in /Users/shakthiraveen/anaconda3/lib/python3.11/site-packages (from aiohttp->openai==0.27.0) (6.0.2)\n",
      "Requirement already satisfied: yarl<2.0,>=1.0 in /Users/shakthiraveen/anaconda3/lib/python3.11/site-packages (from aiohttp->openai==0.27.0) (1.8.1)\n"
     ]
    }
   ],
   "source": [
    "# !pip install openai==0.27.0"
   ]
  },
  {
   "cell_type": "code",
   "execution_count": 13,
   "id": "dc516561-f907-46c4-ac1d-7838c656e805",
   "metadata": {
    "tags": []
   },
   "outputs": [],
   "source": [
    "import openai\n",
    "\n",
    "# OPENAI_API_KEY=os.getenv('OPENAI_API_KEY')\n",
    "OPENAI_API_KEY=''\n",
    "openai.api_key  = OPENAI_API_KEY"
   ]
  },
  {
   "cell_type": "code",
   "execution_count": 14,
   "id": "1ddad265-af11-47e2-b6d4-a608e052ed06",
   "metadata": {
    "tags": []
   },
   "outputs": [],
   "source": [
    "def get_completion(prompt, model=\"gpt-3.5-turbo-1106\"):\n",
    "\n",
    "  messages = [{\"role\": \"user\", \"content\": prompt}]\n",
    "  response = openai.ChatCompletion.create(model=model,messages=messages,temperature=0)\n",
    "\n",
    "  return response.choices[0].message[\"content\"]"
   ]
  },
  {
   "cell_type": "code",
   "execution_count": 15,
   "id": "754e1545-dc61-4429-b265-dd0e4ce01858",
   "metadata": {
    "tags": []
   },
   "outputs": [],
   "source": [
    "prompt = \"Why is the sky blue?\"\n",
    "\n",
    "chatgpt_response = get_completion(prompt)"
   ]
  },
  {
   "cell_type": "code",
   "execution_count": 16,
   "id": "76b4c496-1afa-49cd-8626-a52afa96e977",
   "metadata": {
    "tags": []
   },
   "outputs": [
    {
     "data": {
      "text/plain": [
       "\"The sky appears blue to our eyes because of the way the Earth's atmosphere scatters sunlight. The shorter blue wavelengths of light are scattered more than the other colors in the spectrum, such as red and yellow, by the gases and particles in the atmosphere. This scattering causes the blue light to be more visible, giving the sky its blue color.\""
      ]
     },
     "execution_count": 16,
     "metadata": {},
     "output_type": "execute_result"
    }
   ],
   "source": [
    "chatgpt_response"
   ]
  },
  {
   "cell_type": "markdown",
   "id": "e41b4c7a-241c-455a-8ce9-e1b87a52cb69",
   "metadata": {},
   "source": [
    "### Batching API Calls (Single Shot)"
   ]
  },
  {
   "cell_type": "code",
   "execution_count": 20,
   "id": "5a3a8b32-7931-4340-b5bc-5c5ee6173b44",
   "metadata": {
    "tags": []
   },
   "outputs": [
    {
     "data": {
      "text/html": [
       "<div>\n",
       "<style scoped>\n",
       "    .dataframe tbody tr th:only-of-type {\n",
       "        vertical-align: middle;\n",
       "    }\n",
       "\n",
       "    .dataframe tbody tr th {\n",
       "        vertical-align: top;\n",
       "    }\n",
       "\n",
       "    .dataframe thead th {\n",
       "        text-align: right;\n",
       "    }\n",
       "</style>\n",
       "<table border=\"1\" class=\"dataframe\">\n",
       "  <thead>\n",
       "    <tr style=\"text-align: right;\">\n",
       "      <th></th>\n",
       "      <th>tweet</th>\n",
       "      <th>label</th>\n",
       "      <th>clean_tweets</th>\n",
       "      <th>pred_label</th>\n",
       "    </tr>\n",
       "  </thead>\n",
       "  <tbody>\n",
       "    <tr>\n",
       "      <th>0</th>\n",
       "      <td>Anura kumara dissanayake backed up from #China...</td>\n",
       "      <td>1</td>\n",
       "      <td>anura kumara dissanayake backed up from china ...</td>\n",
       "      <td></td>\n",
       "    </tr>\n",
       "    <tr>\n",
       "      <th>1</th>\n",
       "      <td>Anura Kumara Dissanayake in London expressed r...</td>\n",
       "      <td>0</td>\n",
       "      <td>anura kumara dissanayake in london expressed r...</td>\n",
       "      <td></td>\n",
       "    </tr>\n",
       "    <tr>\n",
       "      <th>2</th>\n",
       "      <td>Voting RW means letting SP win, it’s simple as...</td>\n",
       "      <td>1</td>\n",
       "      <td>voting rw means letting sp win it simple as th...</td>\n",
       "      <td></td>\n",
       "    </tr>\n",
       "    <tr>\n",
       "      <th>3</th>\n",
       "      <td>So JVP PM is Gona be tilvin? What a disaster i...</td>\n",
       "      <td>0</td>\n",
       "      <td>so jvp pm is gona be tilvin what disaster it w...</td>\n",
       "      <td></td>\n",
       "    </tr>\n",
       "    <tr>\n",
       "      <th>4</th>\n",
       "      <td>Anura Kumara Dissanayake, Wasantha Samarasingh...</td>\n",
       "      <td>0</td>\n",
       "      <td>anura kumara dissanayake wasantha samarasinghe...</td>\n",
       "      <td></td>\n",
       "    </tr>\n",
       "    <tr>\n",
       "      <th>5</th>\n",
       "      <td>We’ve had our fair share of debates and argume...</td>\n",
       "      <td>0</td>\n",
       "      <td>we ve had our fair share of debates and argume...</td>\n",
       "      <td></td>\n",
       "    </tr>\n",
       "    <tr>\n",
       "      <th>6</th>\n",
       "      <td>Compared to SJBs economy policy surely NPP doe...</td>\n",
       "      <td>0</td>\n",
       "      <td>compared to sjbs economy policy surely npp doe...</td>\n",
       "      <td></td>\n",
       "    </tr>\n",
       "    <tr>\n",
       "      <th>7</th>\n",
       "      <td>AK Dissanayake (NPP) is projected to win the u...</td>\n",
       "      <td>1</td>\n",
       "      <td>ak dissanayake npp is projected to win the upc...</td>\n",
       "      <td></td>\n",
       "    </tr>\n",
       "    <tr>\n",
       "      <th>8</th>\n",
       "      <td>The JVP, including Anura Kumara Dissanayake, r...</td>\n",
       "      <td>0</td>\n",
       "      <td>the jvp including anura kumara dissanayake res...</td>\n",
       "      <td></td>\n",
       "    </tr>\n",
       "    <tr>\n",
       "      <th>9</th>\n",
       "      <td>We had a good past.\\nDon't get fooled by AKD's...</td>\n",
       "      <td>0</td>\n",
       "      <td>we had good past don get fooled by akd words h...</td>\n",
       "      <td></td>\n",
       "    </tr>\n",
       "    <tr>\n",
       "      <th>10</th>\n",
       "      <td>“I would like to ask Anura Kumara Dissanayake,...</td>\n",
       "      <td>0</td>\n",
       "      <td>would like to ask anura kumara dissanayake who...</td>\n",
       "      <td></td>\n",
       "    </tr>\n",
       "    <tr>\n",
       "      <th>11</th>\n",
       "      <td>For anyone new to #SriLanka politics and inter...</td>\n",
       "      <td>1</td>\n",
       "      <td>for anyone new to srilanka politics and intere...</td>\n",
       "      <td></td>\n",
       "    </tr>\n",
       "    <tr>\n",
       "      <th>12</th>\n",
       "      <td>Big shifts in voting intent in the first half ...</td>\n",
       "      <td>0</td>\n",
       "      <td>big shifts in voting intent in the first half ...</td>\n",
       "      <td></td>\n",
       "    </tr>\n",
       "    <tr>\n",
       "      <th>13</th>\n",
       "      <td>NPP government is ready to bring in a foreign ...</td>\n",
       "      <td>1</td>\n",
       "      <td>npp government is ready to bring in foreign in...</td>\n",
       "      <td></td>\n",
       "    </tr>\n",
       "    <tr>\n",
       "      <th>14</th>\n",
       "      <td>As a presidential candidate, if Anura Kumara D...</td>\n",
       "      <td>0</td>\n",
       "      <td>as presidential candidate if anura kumara diss...</td>\n",
       "      <td></td>\n",
       "    </tr>\n",
       "  </tbody>\n",
       "</table>\n",
       "</div>"
      ],
      "text/plain": [
       "                                                tweet  label  \\\n",
       "0   Anura kumara dissanayake backed up from #China...      1   \n",
       "1   Anura Kumara Dissanayake in London expressed r...      0   \n",
       "2   Voting RW means letting SP win, it’s simple as...      1   \n",
       "3   So JVP PM is Gona be tilvin? What a disaster i...      0   \n",
       "4   Anura Kumara Dissanayake, Wasantha Samarasingh...      0   \n",
       "5   We’ve had our fair share of debates and argume...      0   \n",
       "6   Compared to SJBs economy policy surely NPP doe...      0   \n",
       "7   AK Dissanayake (NPP) is projected to win the u...      1   \n",
       "8   The JVP, including Anura Kumara Dissanayake, r...      0   \n",
       "9   We had a good past.\\nDon't get fooled by AKD's...      0   \n",
       "10  “I would like to ask Anura Kumara Dissanayake,...      0   \n",
       "11  For anyone new to #SriLanka politics and inter...      1   \n",
       "12  Big shifts in voting intent in the first half ...      0   \n",
       "13  NPP government is ready to bring in a foreign ...      1   \n",
       "14  As a presidential candidate, if Anura Kumara D...      0   \n",
       "\n",
       "                                         clean_tweets pred_label  \n",
       "0   anura kumara dissanayake backed up from china ...             \n",
       "1   anura kumara dissanayake in london expressed r...             \n",
       "2   voting rw means letting sp win it simple as th...             \n",
       "3   so jvp pm is gona be tilvin what disaster it w...             \n",
       "4   anura kumara dissanayake wasantha samarasinghe...             \n",
       "5   we ve had our fair share of debates and argume...             \n",
       "6   compared to sjbs economy policy surely npp doe...             \n",
       "7   ak dissanayake npp is projected to win the upc...             \n",
       "8   the jvp including anura kumara dissanayake res...             \n",
       "9   we had good past don get fooled by akd words h...             \n",
       "10  would like to ask anura kumara dissanayake who...             \n",
       "11  for anyone new to srilanka politics and intere...             \n",
       "12  big shifts in voting intent in the first half ...             \n",
       "13  npp government is ready to bring in foreign in...             \n",
       "14  as presidential candidate if anura kumara diss...             "
      ]
     },
     "execution_count": 20,
     "metadata": {},
     "output_type": "execute_result"
    }
   ],
   "source": [
    "test_set_total = test_set\n",
    "\n",
    "test_set_total['pred_label'] = ''\n",
    "\n",
    "test_set_total"
   ]
  },
  {
   "cell_type": "code",
   "execution_count": 21,
   "id": "991bf251-b169-4ed1-896e-3270fe0055da",
   "metadata": {
    "tags": []
   },
   "outputs": [],
   "source": [
    "batches = []\n",
    "batch_size = 50\n",
    "\n",
    "for i in range(0, len(test_set_total), batch_size):\n",
    "  batches.append(test_set_total[i : i + batch_size])  # Append batches instead of assigning"
   ]
  },
  {
   "cell_type": "code",
   "execution_count": 24,
   "id": "3eb77753-b49f-4c30-a61e-18622d859128",
   "metadata": {
    "tags": []
   },
   "outputs": [],
   "source": [
    "import time\n",
    "\n",
    "def gpt_completion_function(batch,current_batch,total_batch,model=\"gpt-3.5-turbo-1106\"):\n",
    "  \"\"\"Function works in three steps:\n",
    "  # Step-1: Convert the DataFrame to JSON using the to_json() method.\n",
    "  # Step-2: Preparing Prompt\n",
    "  # Step-3: Calling GPT API\n",
    "  \"\"\"\n",
    "\n",
    "  print(f\"Now processing batch#: {current_batch+1} of {total_batch}\")\n",
    "\n",
    "  json_data = batch[['clean_tweets','pred_label']].to_json(orient='records')\n",
    "\n",
    "  prompt = f\"\"\"\n",
    "  You are an expert linguist, who is good at classifying presidential election tweet sentiments into Positive/Negative labels.\n",
    "  Help me classify presidential election tweets into: Positive(label=1), and Negative(label=0).\n",
    "  Tweets are provided between three back ticks.\n",
    "  In your output, only return the Json code back as output - which is provided between three backticks.\n",
    "  Your task is to update predicted labels under 'pred_label' in the Json code.\n",
    "  Don't make any changes to Json code format, please.\n",
    "  Error handling instruction: In case a Customer Review violates API policy, please assign it default sentiment as Negative (label=0).\n",
    "\n",
    "  ```\n",
    "  {json_data}\n",
    "  ```\n",
    "  \"\"\"\n",
    "\n",
    "  print(prompt)\n",
    "\n",
    "  messages = [{\"role\": \"user\", \"content\": prompt}]\n",
    "  response = openai.ChatCompletion.create(model=model,messages=messages,temperature=0)\n",
    "  time.sleep(5)\n",
    "  return response.choices[0].message[\"content\"]"
   ]
  },
  {
   "cell_type": "code",
   "execution_count": 25,
   "id": "40c4f4d4-5c5b-45b4-9dd6-a8487eff01f0",
   "metadata": {
    "tags": []
   },
   "outputs": [
    {
     "name": "stdout",
     "output_type": "stream",
     "text": [
      "Now processing batch#: 1 of 1\n",
      "\n",
      "  You are an expert linguist, who is good at classifying presidential election tweet sentiments into Positive/Negative labels.\n",
      "  Help me classify presidential election tweets into: Positive(label=1), and Negative(label=0).\n",
      "  Tweets are provided between three back ticks.\n",
      "  In your output, only return the Json code back as output - which is provided between three backticks.\n",
      "  Your task is to update predicted labels under 'pred_label' in the Json code.\n",
      "  Don't make any changes to Json code format, please.\n",
      "  Error handling instruction: In case a Customer Review violates API policy, please assign it default sentiment as Negative (label=0).\n",
      "\n",
      "  ```\n",
      "  [{\"clean_tweets\":\"anura kumara dissanayake backed up from china chinese are pushing anura kumara on socialmedia reactions have been around for long time\",\"pred_label\":\"\"},{\"clean_tweets\":\"anura kumara dissanayake in london expressed regret over the killings for which jvp was responsible sunday observer 1 jun 2014 the jvp which has notorious track record killed more buddhist monks than the ltte in 1989 it killed 24 senior monks daily mirror 28 feb 2024\",\"pred_label\":\"\"},{\"clean_tweets\":\"voting rw means letting sp win it simple as that akd is thosand times better than sp\",\"pred_label\":\"\"},{\"clean_tweets\":\"so jvp pm is gona be tilvin what disaster it will be hadunethi as finance minister who thinks cuba is great and now this guy as pm think twice chaps sajithpremadasa has the ground support and the best team don break the vote and complain later srilanka lka\",\"pred_label\":\"\"},{\"clean_tweets\":\"anura kumara dissanayake wasantha samarasinghe and others from npp claim to have files proving corruption but refuse to hand them over to authorities or reveal the details to the public now these anti corruption champions are tangled in massive fraud scandal themselves\",\"pred_label\":\"\"},{\"clean_tweets\":\"we ve had our fair share of debates and arguments with mp anura kumara dissanayake we ve clashed many times but he has never stooped to such third rate insults like some of his followers are doing now honestly they re not hurting us they re sabotaging him here post from follower of mp anura kumara dissanayake that said when pina took over the country the total foreign debt was 71 billion dollars now it 100 our country total foreign debt is 37 billion dollars but this person is falsely claiming it is 71 billion and they are saying that over the past two years our debt has increased to 100 billion dollars but after declaring we couldn pay our debt everyone knows that no country has given us any loans no country has the legal right to lend us money so what is the purpose of spreading these lies are your followers trying to bring your party to power one day through lies\",\"pred_label\":\"\"},{\"clean_tweets\":\"compared to sjbs economy policy surely npp doesnt have proper and clear one npp economy team hasnt spoke out much in this election campaigns they should explain thre economic policy feels like npp is scared to expose thre economy team to public\",\"pred_label\":\"\"},{\"clean_tweets\":\"ak dissanayake npp is projected to win the upcoming election\",\"pred_label\":\"\"},{\"clean_tweets\":\"the jvp including anura kumara dissanayake resigned from the government in 2005 because the jvp opposed the government decision to distribute tsunami relief aid to sri lankan tamil citizens living in ltte controlled areas\",\"pred_label\":\"\"},{\"clean_tweets\":\"we had good past don get fooled by akd words he is product of second class uni in sr lanka if you do not like the people in parliament get rid of them when parliament election comes\",\"pred_label\":\"\"},{\"clean_tweets\":\"would like to ask anura kumara dissanayake who is responsible for the violence that took place at the sri jayewardenepura campus are you planning to implement such political culture sajith questions akd\",\"pred_label\":\"\"},{\"clean_tweets\":\"for anyone new to srilanka politics and interested in knowing more about the leading presidential candidates sarojpathi profile of the jvp and npp leader anura kumara dissanayake is an excellent resource\",\"pred_label\":\"\"},{\"clean_tweets\":\"big shifts in voting intent in the first half of 2024 president ranil wickremesinghe saw significant rise in support doubling from 13 to 22 meanwhile support for npp anura dissanayake sjb sajith premadasa and the slpp dropped by 7 1 and 5 respectively\",\"pred_label\":\"\"},{\"clean_tweets\":\"npp government is ready to bring in foreign investor to manage sri lanka telecom npp is against selling srilanka telecom however they will have to bring in foreign investor to manage it anura kumara dissanayake daily mirror\",\"pred_label\":\"\"},{\"clean_tweets\":\"as presidential candidate if anura kumara dissanayake is intimidating the tamils in the north on how they should vote wonder what he would do if elected president strange tone from man who said he wants to wipe out racism\",\"pred_label\":\"\"}]\n",
      "  ```\n",
      "  \n"
     ]
    }
   ],
   "source": [
    "batch_count = len(batches)\n",
    "responses = []\n",
    "\n",
    "for i in range(0,len(batches)):\n",
    "  responses.append(gpt_completion_function(batches[i],i,batch_count))"
   ]
  },
  {
   "cell_type": "code",
   "execution_count": 28,
   "id": "2acdbb25-794d-4e9d-8fad-817e13ce109d",
   "metadata": {
    "tags": []
   },
   "outputs": [
    {
     "name": "stdout",
     "output_type": "stream",
     "text": [
      "                                         clean_tweets  pred_label\n",
      "0   anura kumara dissanayake backed up from china ...           0\n",
      "1   anura kumara dissanayake in london expressed r...           0\n",
      "2   voting rw means letting sp win it simple as th...           1\n",
      "3   so jvp pm is gona be tilvin what disaster it w...           0\n",
      "4   anura kumara dissanayake wasantha samarasinghe...           0\n",
      "5   we ve had our fair share of debates and argume...           0\n",
      "6   compared to sjbs economy policy surely npp doe...           0\n",
      "7   ak dissanayake npp is projected to win the upc...           1\n",
      "8   the jvp including anura kumara dissanayake res...           0\n",
      "9   we had good past don get fooled by akd words h...           0\n",
      "10  would like to ask anura kumara dissanayake who...           0\n",
      "11  for anyone new to srilanka politics and intere...           1\n",
      "12  big shifts in voting intent in the first half ...           0\n",
      "13  npp government is ready to bring in foreign in...           1\n",
      "14  as presidential candidate if anura kumara diss...           0\n"
     ]
    }
   ],
   "source": [
    "import json\n",
    "import pandas as pd\n",
    "\n",
    "df_total = pd.DataFrame()  # Initialize an empty DataFrame\n",
    "\n",
    "for response in responses:\n",
    "    # Clean the data by stripping the backticks\n",
    "    json_data = response.strip(\"`\")\n",
    "    \n",
    "    # Load the cleaned data and convert to DataFrame\n",
    "    data = json.loads(json_data)\n",
    "    df_temp = pd.DataFrame(data)\n",
    "    \n",
    "    # Append the DataFrame to the final DataFrame using pd.concat()\n",
    "    df_total = pd.concat([df_total, df_temp], ignore_index=True)\n",
    "\n",
    "print(df_total)  # Display the final DataFrame"
   ]
  },
  {
   "cell_type": "code",
   "execution_count": 29,
   "id": "3411e209-b0fc-4654-95ce-2f364557e4d6",
   "metadata": {
    "tags": []
   },
   "outputs": [
    {
     "data": {
      "text/html": [
       "<div>\n",
       "<style scoped>\n",
       "    .dataframe tbody tr th:only-of-type {\n",
       "        vertical-align: middle;\n",
       "    }\n",
       "\n",
       "    .dataframe tbody tr th {\n",
       "        vertical-align: top;\n",
       "    }\n",
       "\n",
       "    .dataframe thead th {\n",
       "        text-align: right;\n",
       "    }\n",
       "</style>\n",
       "<table border=\"1\" class=\"dataframe\">\n",
       "  <thead>\n",
       "    <tr style=\"text-align: right;\">\n",
       "      <th></th>\n",
       "      <th>tweet</th>\n",
       "      <th>label</th>\n",
       "      <th>clean_tweets</th>\n",
       "      <th>pred_label</th>\n",
       "    </tr>\n",
       "  </thead>\n",
       "  <tbody>\n",
       "    <tr>\n",
       "      <th>0</th>\n",
       "      <td>Anura kumara dissanayake backed up from #China...</td>\n",
       "      <td>1</td>\n",
       "      <td>anura kumara dissanayake backed up from china ...</td>\n",
       "      <td>0</td>\n",
       "    </tr>\n",
       "    <tr>\n",
       "      <th>1</th>\n",
       "      <td>Anura Kumara Dissanayake in London expressed r...</td>\n",
       "      <td>0</td>\n",
       "      <td>anura kumara dissanayake in london expressed r...</td>\n",
       "      <td>0</td>\n",
       "    </tr>\n",
       "    <tr>\n",
       "      <th>2</th>\n",
       "      <td>Voting RW means letting SP win, it’s simple as...</td>\n",
       "      <td>1</td>\n",
       "      <td>voting rw means letting sp win it simple as th...</td>\n",
       "      <td>1</td>\n",
       "    </tr>\n",
       "    <tr>\n",
       "      <th>3</th>\n",
       "      <td>So JVP PM is Gona be tilvin? What a disaster i...</td>\n",
       "      <td>0</td>\n",
       "      <td>so jvp pm is gona be tilvin what disaster it w...</td>\n",
       "      <td>0</td>\n",
       "    </tr>\n",
       "    <tr>\n",
       "      <th>4</th>\n",
       "      <td>Anura Kumara Dissanayake, Wasantha Samarasingh...</td>\n",
       "      <td>0</td>\n",
       "      <td>anura kumara dissanayake wasantha samarasinghe...</td>\n",
       "      <td>0</td>\n",
       "    </tr>\n",
       "    <tr>\n",
       "      <th>5</th>\n",
       "      <td>We’ve had our fair share of debates and argume...</td>\n",
       "      <td>0</td>\n",
       "      <td>we ve had our fair share of debates and argume...</td>\n",
       "      <td>0</td>\n",
       "    </tr>\n",
       "    <tr>\n",
       "      <th>6</th>\n",
       "      <td>Compared to SJBs economy policy surely NPP doe...</td>\n",
       "      <td>0</td>\n",
       "      <td>compared to sjbs economy policy surely npp doe...</td>\n",
       "      <td>0</td>\n",
       "    </tr>\n",
       "    <tr>\n",
       "      <th>7</th>\n",
       "      <td>AK Dissanayake (NPP) is projected to win the u...</td>\n",
       "      <td>1</td>\n",
       "      <td>ak dissanayake npp is projected to win the upc...</td>\n",
       "      <td>1</td>\n",
       "    </tr>\n",
       "    <tr>\n",
       "      <th>8</th>\n",
       "      <td>The JVP, including Anura Kumara Dissanayake, r...</td>\n",
       "      <td>0</td>\n",
       "      <td>the jvp including anura kumara dissanayake res...</td>\n",
       "      <td>0</td>\n",
       "    </tr>\n",
       "    <tr>\n",
       "      <th>9</th>\n",
       "      <td>We had a good past.\\nDon't get fooled by AKD's...</td>\n",
       "      <td>0</td>\n",
       "      <td>we had good past don get fooled by akd words h...</td>\n",
       "      <td>0</td>\n",
       "    </tr>\n",
       "    <tr>\n",
       "      <th>10</th>\n",
       "      <td>“I would like to ask Anura Kumara Dissanayake,...</td>\n",
       "      <td>0</td>\n",
       "      <td>would like to ask anura kumara dissanayake who...</td>\n",
       "      <td>0</td>\n",
       "    </tr>\n",
       "    <tr>\n",
       "      <th>11</th>\n",
       "      <td>For anyone new to #SriLanka politics and inter...</td>\n",
       "      <td>1</td>\n",
       "      <td>for anyone new to srilanka politics and intere...</td>\n",
       "      <td>1</td>\n",
       "    </tr>\n",
       "    <tr>\n",
       "      <th>12</th>\n",
       "      <td>Big shifts in voting intent in the first half ...</td>\n",
       "      <td>0</td>\n",
       "      <td>big shifts in voting intent in the first half ...</td>\n",
       "      <td>0</td>\n",
       "    </tr>\n",
       "    <tr>\n",
       "      <th>13</th>\n",
       "      <td>NPP government is ready to bring in a foreign ...</td>\n",
       "      <td>1</td>\n",
       "      <td>npp government is ready to bring in foreign in...</td>\n",
       "      <td>1</td>\n",
       "    </tr>\n",
       "    <tr>\n",
       "      <th>14</th>\n",
       "      <td>As a presidential candidate, if Anura Kumara D...</td>\n",
       "      <td>0</td>\n",
       "      <td>as presidential candidate if anura kumara diss...</td>\n",
       "      <td>0</td>\n",
       "    </tr>\n",
       "  </tbody>\n",
       "</table>\n",
       "</div>"
      ],
      "text/plain": [
       "                                                tweet  label  \\\n",
       "0   Anura kumara dissanayake backed up from #China...      1   \n",
       "1   Anura Kumara Dissanayake in London expressed r...      0   \n",
       "2   Voting RW means letting SP win, it’s simple as...      1   \n",
       "3   So JVP PM is Gona be tilvin? What a disaster i...      0   \n",
       "4   Anura Kumara Dissanayake, Wasantha Samarasingh...      0   \n",
       "5   We’ve had our fair share of debates and argume...      0   \n",
       "6   Compared to SJBs economy policy surely NPP doe...      0   \n",
       "7   AK Dissanayake (NPP) is projected to win the u...      1   \n",
       "8   The JVP, including Anura Kumara Dissanayake, r...      0   \n",
       "9   We had a good past.\\nDon't get fooled by AKD's...      0   \n",
       "10  “I would like to ask Anura Kumara Dissanayake,...      0   \n",
       "11  For anyone new to #SriLanka politics and inter...      1   \n",
       "12  Big shifts in voting intent in the first half ...      0   \n",
       "13  NPP government is ready to bring in a foreign ...      1   \n",
       "14  As a presidential candidate, if Anura Kumara D...      0   \n",
       "\n",
       "                                         clean_tweets  pred_label  \n",
       "0   anura kumara dissanayake backed up from china ...           0  \n",
       "1   anura kumara dissanayake in london expressed r...           0  \n",
       "2   voting rw means letting sp win it simple as th...           1  \n",
       "3   so jvp pm is gona be tilvin what disaster it w...           0  \n",
       "4   anura kumara dissanayake wasantha samarasinghe...           0  \n",
       "5   we ve had our fair share of debates and argume...           0  \n",
       "6   compared to sjbs economy policy surely npp doe...           0  \n",
       "7   ak dissanayake npp is projected to win the upc...           1  \n",
       "8   the jvp including anura kumara dissanayake res...           0  \n",
       "9   we had good past don get fooled by akd words h...           0  \n",
       "10  would like to ask anura kumara dissanayake who...           0  \n",
       "11  for anyone new to srilanka politics and intere...           1  \n",
       "12  big shifts in voting intent in the first half ...           0  \n",
       "13  npp government is ready to bring in foreign in...           1  \n",
       "14  as presidential candidate if anura kumara diss...           0  "
      ]
     },
     "execution_count": 29,
     "metadata": {},
     "output_type": "execute_result"
    }
   ],
   "source": [
    "# Overwrite pred_label from 'df' into pred_label in 'train_set_sample'\n",
    "\n",
    "test_set_total['pred_label'] = df_total['pred_label'].values\n",
    "test_set_total"
   ]
  },
  {
   "cell_type": "code",
   "execution_count": 30,
   "id": "a53b07fb-88ad-4105-a8ed-2b081020f7de",
   "metadata": {
    "tags": []
   },
   "outputs": [
    {
     "name": "stdout",
     "output_type": "stream",
     "text": [
      "[[10  0]\n",
      " [ 1  4]]\n",
      "\n",
      "Accuracy: 0.9333333333333333\n"
     ]
    }
   ],
   "source": [
    "# Plotting confusion matrix on the predictions\n",
    "\n",
    "from sklearn.metrics import confusion_matrix, accuracy_score\n",
    "\n",
    "y_true = test_set_total[\"label\"]\n",
    "y_pred = test_set_total[\"pred_label\"]\n",
    "\n",
    "print(confusion_matrix(y_true, y_pred))\n",
    "print(f\"\\nAccuracy: {accuracy_score(y_true, y_pred)}\")"
   ]
  },
  {
   "cell_type": "markdown",
   "id": "a59772b4-c7d2-4314-9f74-2a38a1c2daca",
   "metadata": {},
   "source": [
    "### Batching API Calls (Few Shot)"
   ]
  },
  {
   "cell_type": "code",
   "execution_count": 31,
   "id": "24d3cf18-46d0-48c5-8a0d-20c1f3cd23fc",
   "metadata": {
    "tags": []
   },
   "outputs": [
    {
     "data": {
      "text/html": [
       "<div>\n",
       "<style scoped>\n",
       "    .dataframe tbody tr th:only-of-type {\n",
       "        vertical-align: middle;\n",
       "    }\n",
       "\n",
       "    .dataframe tbody tr th {\n",
       "        vertical-align: top;\n",
       "    }\n",
       "\n",
       "    .dataframe thead th {\n",
       "        text-align: right;\n",
       "    }\n",
       "</style>\n",
       "<table border=\"1\" class=\"dataframe\">\n",
       "  <thead>\n",
       "    <tr style=\"text-align: right;\">\n",
       "      <th></th>\n",
       "      <th>tweet</th>\n",
       "      <th>label</th>\n",
       "      <th>clean_tweets</th>\n",
       "      <th>pred_label</th>\n",
       "    </tr>\n",
       "  </thead>\n",
       "  <tbody>\n",
       "    <tr>\n",
       "      <th>0</th>\n",
       "      <td>Anura kumara dissanayake backed up from #China...</td>\n",
       "      <td>1</td>\n",
       "      <td>anura kumara dissanayake backed up from china ...</td>\n",
       "      <td></td>\n",
       "    </tr>\n",
       "    <tr>\n",
       "      <th>1</th>\n",
       "      <td>Anura Kumara Dissanayake in London expressed r...</td>\n",
       "      <td>0</td>\n",
       "      <td>anura kumara dissanayake in london expressed r...</td>\n",
       "      <td></td>\n",
       "    </tr>\n",
       "    <tr>\n",
       "      <th>2</th>\n",
       "      <td>Voting RW means letting SP win, it’s simple as...</td>\n",
       "      <td>1</td>\n",
       "      <td>voting rw means letting sp win it simple as th...</td>\n",
       "      <td></td>\n",
       "    </tr>\n",
       "    <tr>\n",
       "      <th>3</th>\n",
       "      <td>So JVP PM is Gona be tilvin? What a disaster i...</td>\n",
       "      <td>0</td>\n",
       "      <td>so jvp pm is gona be tilvin what disaster it w...</td>\n",
       "      <td></td>\n",
       "    </tr>\n",
       "    <tr>\n",
       "      <th>4</th>\n",
       "      <td>Anura Kumara Dissanayake, Wasantha Samarasingh...</td>\n",
       "      <td>0</td>\n",
       "      <td>anura kumara dissanayake wasantha samarasinghe...</td>\n",
       "      <td></td>\n",
       "    </tr>\n",
       "    <tr>\n",
       "      <th>5</th>\n",
       "      <td>We’ve had our fair share of debates and argume...</td>\n",
       "      <td>0</td>\n",
       "      <td>we ve had our fair share of debates and argume...</td>\n",
       "      <td></td>\n",
       "    </tr>\n",
       "    <tr>\n",
       "      <th>6</th>\n",
       "      <td>Compared to SJBs economy policy surely NPP doe...</td>\n",
       "      <td>0</td>\n",
       "      <td>compared to sjbs economy policy surely npp doe...</td>\n",
       "      <td></td>\n",
       "    </tr>\n",
       "    <tr>\n",
       "      <th>7</th>\n",
       "      <td>AK Dissanayake (NPP) is projected to win the u...</td>\n",
       "      <td>1</td>\n",
       "      <td>ak dissanayake npp is projected to win the upc...</td>\n",
       "      <td></td>\n",
       "    </tr>\n",
       "    <tr>\n",
       "      <th>8</th>\n",
       "      <td>The JVP, including Anura Kumara Dissanayake, r...</td>\n",
       "      <td>0</td>\n",
       "      <td>the jvp including anura kumara dissanayake res...</td>\n",
       "      <td></td>\n",
       "    </tr>\n",
       "    <tr>\n",
       "      <th>9</th>\n",
       "      <td>We had a good past.\\nDon't get fooled by AKD's...</td>\n",
       "      <td>0</td>\n",
       "      <td>we had good past don get fooled by akd words h...</td>\n",
       "      <td></td>\n",
       "    </tr>\n",
       "    <tr>\n",
       "      <th>10</th>\n",
       "      <td>“I would like to ask Anura Kumara Dissanayake,...</td>\n",
       "      <td>0</td>\n",
       "      <td>would like to ask anura kumara dissanayake who...</td>\n",
       "      <td></td>\n",
       "    </tr>\n",
       "    <tr>\n",
       "      <th>11</th>\n",
       "      <td>For anyone new to #SriLanka politics and inter...</td>\n",
       "      <td>1</td>\n",
       "      <td>for anyone new to srilanka politics and intere...</td>\n",
       "      <td></td>\n",
       "    </tr>\n",
       "    <tr>\n",
       "      <th>12</th>\n",
       "      <td>Big shifts in voting intent in the first half ...</td>\n",
       "      <td>0</td>\n",
       "      <td>big shifts in voting intent in the first half ...</td>\n",
       "      <td></td>\n",
       "    </tr>\n",
       "    <tr>\n",
       "      <th>13</th>\n",
       "      <td>NPP government is ready to bring in a foreign ...</td>\n",
       "      <td>1</td>\n",
       "      <td>npp government is ready to bring in foreign in...</td>\n",
       "      <td></td>\n",
       "    </tr>\n",
       "    <tr>\n",
       "      <th>14</th>\n",
       "      <td>As a presidential candidate, if Anura Kumara D...</td>\n",
       "      <td>0</td>\n",
       "      <td>as presidential candidate if anura kumara diss...</td>\n",
       "      <td></td>\n",
       "    </tr>\n",
       "  </tbody>\n",
       "</table>\n",
       "</div>"
      ],
      "text/plain": [
       "                                                tweet  label  \\\n",
       "0   Anura kumara dissanayake backed up from #China...      1   \n",
       "1   Anura Kumara Dissanayake in London expressed r...      0   \n",
       "2   Voting RW means letting SP win, it’s simple as...      1   \n",
       "3   So JVP PM is Gona be tilvin? What a disaster i...      0   \n",
       "4   Anura Kumara Dissanayake, Wasantha Samarasingh...      0   \n",
       "5   We’ve had our fair share of debates and argume...      0   \n",
       "6   Compared to SJBs economy policy surely NPP doe...      0   \n",
       "7   AK Dissanayake (NPP) is projected to win the u...      1   \n",
       "8   The JVP, including Anura Kumara Dissanayake, r...      0   \n",
       "9   We had a good past.\\nDon't get fooled by AKD's...      0   \n",
       "10  “I would like to ask Anura Kumara Dissanayake,...      0   \n",
       "11  For anyone new to #SriLanka politics and inter...      1   \n",
       "12  Big shifts in voting intent in the first half ...      0   \n",
       "13  NPP government is ready to bring in a foreign ...      1   \n",
       "14  As a presidential candidate, if Anura Kumara D...      0   \n",
       "\n",
       "                                         clean_tweets pred_label  \n",
       "0   anura kumara dissanayake backed up from china ...             \n",
       "1   anura kumara dissanayake in london expressed r...             \n",
       "2   voting rw means letting sp win it simple as th...             \n",
       "3   so jvp pm is gona be tilvin what disaster it w...             \n",
       "4   anura kumara dissanayake wasantha samarasinghe...             \n",
       "5   we ve had our fair share of debates and argume...             \n",
       "6   compared to sjbs economy policy surely npp doe...             \n",
       "7   ak dissanayake npp is projected to win the upc...             \n",
       "8   the jvp including anura kumara dissanayake res...             \n",
       "9   we had good past don get fooled by akd words h...             \n",
       "10  would like to ask anura kumara dissanayake who...             \n",
       "11  for anyone new to srilanka politics and intere...             \n",
       "12  big shifts in voting intent in the first half ...             \n",
       "13  npp government is ready to bring in foreign in...             \n",
       "14  as presidential candidate if anura kumara diss...             "
      ]
     },
     "execution_count": 31,
     "metadata": {},
     "output_type": "execute_result"
    }
   ],
   "source": [
    "test_set_total = test_set\n",
    "\n",
    "test_set_total['pred_label'] = ''\n",
    "\n",
    "test_set_total"
   ]
  },
  {
   "cell_type": "code",
   "execution_count": 32,
   "id": "5d0303d0-0d87-4ef2-b638-d44a9ca8e374",
   "metadata": {
    "tags": []
   },
   "outputs": [],
   "source": [
    "batches = []\n",
    "batch_size = 50\n",
    "\n",
    "for i in range(0, len(test_set_total), batch_size):\n",
    "  batches.append(test_set_total[i : i + batch_size])  # Append batches instead of assigning"
   ]
  },
  {
   "cell_type": "code",
   "execution_count": 33,
   "id": "65f2afed-d5e8-4467-9285-d17b90c4e841",
   "metadata": {
    "tags": []
   },
   "outputs": [],
   "source": [
    "import time\n",
    "\n",
    "def gpt_completion_function(batch,current_batch,total_batch,train_sample,model=\"gpt-3.5-turbo-1106\"):\n",
    "  \"\"\"Function works in three steps:\n",
    "  # Step-1: Convert the DataFrame to JSON using the to_json() method.\n",
    "  # Step-2: Preparing Prompt\n",
    "  # Step-3: Calling GPT API\n",
    "  \"\"\"\n",
    "\n",
    "  print(f\"Now processing batch#: {current_batch+1} of {total_batch}\")\n",
    "\n",
    "  json_data = batch[['clean_tweets','pred_label']].to_json(orient='records')\n",
    "\n",
    "  sample_json_data = train_sample[['clean_tweets','label']].to_json(orient='records')\n",
    "\n",
    "  prompt = f\"\"\"\n",
    "  You are an expert linguist, who is good at classifying presidential election tweet sentiments into Positive/Negative labels.\n",
    "  Help me classify presidential election tweets into: Positive(label=1), and Negative(label=0).\n",
    "  Tweets are provided between three back ticks.\n",
    "  In your output, only return the Json code back as output - which is provided between three backticks.\n",
    "  Your task is to update predicted labels under 'pred_label' in the Json code.\n",
    "  Don't make any changes to Json code format, please.\n",
    "  Error handling instruction: In case a Customer Review violates API policy, please assign it default sentiment as Negative (label=0).\n",
    "  Examples of good Sentiment Analysis Classification are provided between separator ####.\n",
    "  These examples are for your reference, not to be included in your final output.\n",
    "\n",
    "  ```\n",
    "  {json_data}\n",
    "  ```\n",
    "  ####\n",
    "  {sample_json_data}\n",
    "  ####\n",
    "  \"\"\"\n",
    "\n",
    "  print(prompt)\n",
    "\n",
    "  messages = [{\"role\": \"user\", \"content\": prompt}]\n",
    "  response = openai.ChatCompletion.create(model=model,messages=messages,temperature=0)\n",
    "  time.sleep(5)\n",
    "  return response.choices[0].message[\"content\"]"
   ]
  },
  {
   "cell_type": "code",
   "execution_count": 34,
   "id": "9f31d723-4f9c-401c-a12a-e46c0edf6427",
   "metadata": {
    "tags": []
   },
   "outputs": [
    {
     "name": "stdout",
     "output_type": "stream",
     "text": [
      "Now processing batch#: 1 of 1\n",
      "\n",
      "  You are an expert linguist, who is good at classifying presidential election tweet sentiments into Positive/Negative labels.\n",
      "  Help me classify presidential election tweets into: Positive(label=1), and Negative(label=0).\n",
      "  Tweets are provided between three back ticks.\n",
      "  In your output, only return the Json code back as output - which is provided between three backticks.\n",
      "  Your task is to update predicted labels under 'pred_label' in the Json code.\n",
      "  Don't make any changes to Json code format, please.\n",
      "  Error handling instruction: In case a Customer Review violates API policy, please assign it default sentiment as Negative (label=0).\n",
      "  Examples of good Sentiment Analysis Classification are provided between separator ####.\n",
      "  These examples are for your reference, not to be included in your final output.\n",
      "\n",
      "  ```\n",
      "  [{\"clean_tweets\":\"anura kumara dissanayake backed up from china chinese are pushing anura kumara on socialmedia reactions have been around for long time\",\"pred_label\":\"\"},{\"clean_tweets\":\"anura kumara dissanayake in london expressed regret over the killings for which jvp was responsible sunday observer 1 jun 2014 the jvp which has notorious track record killed more buddhist monks than the ltte in 1989 it killed 24 senior monks daily mirror 28 feb 2024\",\"pred_label\":\"\"},{\"clean_tweets\":\"voting rw means letting sp win it simple as that akd is thosand times better than sp\",\"pred_label\":\"\"},{\"clean_tweets\":\"so jvp pm is gona be tilvin what disaster it will be hadunethi as finance minister who thinks cuba is great and now this guy as pm think twice chaps sajithpremadasa has the ground support and the best team don break the vote and complain later srilanka lka\",\"pred_label\":\"\"},{\"clean_tweets\":\"anura kumara dissanayake wasantha samarasinghe and others from npp claim to have files proving corruption but refuse to hand them over to authorities or reveal the details to the public now these anti corruption champions are tangled in massive fraud scandal themselves\",\"pred_label\":\"\"},{\"clean_tweets\":\"we ve had our fair share of debates and arguments with mp anura kumara dissanayake we ve clashed many times but he has never stooped to such third rate insults like some of his followers are doing now honestly they re not hurting us they re sabotaging him here post from follower of mp anura kumara dissanayake that said when pina took over the country the total foreign debt was 71 billion dollars now it 100 our country total foreign debt is 37 billion dollars but this person is falsely claiming it is 71 billion and they are saying that over the past two years our debt has increased to 100 billion dollars but after declaring we couldn pay our debt everyone knows that no country has given us any loans no country has the legal right to lend us money so what is the purpose of spreading these lies are your followers trying to bring your party to power one day through lies\",\"pred_label\":\"\"},{\"clean_tweets\":\"compared to sjbs economy policy surely npp doesnt have proper and clear one npp economy team hasnt spoke out much in this election campaigns they should explain thre economic policy feels like npp is scared to expose thre economy team to public\",\"pred_label\":\"\"},{\"clean_tweets\":\"ak dissanayake npp is projected to win the upcoming election\",\"pred_label\":\"\"},{\"clean_tweets\":\"the jvp including anura kumara dissanayake resigned from the government in 2005 because the jvp opposed the government decision to distribute tsunami relief aid to sri lankan tamil citizens living in ltte controlled areas\",\"pred_label\":\"\"},{\"clean_tweets\":\"we had good past don get fooled by akd words he is product of second class uni in sr lanka if you do not like the people in parliament get rid of them when parliament election comes\",\"pred_label\":\"\"},{\"clean_tweets\":\"would like to ask anura kumara dissanayake who is responsible for the violence that took place at the sri jayewardenepura campus are you planning to implement such political culture sajith questions akd\",\"pred_label\":\"\"},{\"clean_tweets\":\"for anyone new to srilanka politics and interested in knowing more about the leading presidential candidates sarojpathi profile of the jvp and npp leader anura kumara dissanayake is an excellent resource\",\"pred_label\":\"\"},{\"clean_tweets\":\"big shifts in voting intent in the first half of 2024 president ranil wickremesinghe saw significant rise in support doubling from 13 to 22 meanwhile support for npp anura dissanayake sjb sajith premadasa and the slpp dropped by 7 1 and 5 respectively\",\"pred_label\":\"\"},{\"clean_tweets\":\"npp government is ready to bring in foreign investor to manage sri lanka telecom npp is against selling srilanka telecom however they will have to bring in foreign investor to manage it anura kumara dissanayake daily mirror\",\"pred_label\":\"\"},{\"clean_tweets\":\"as presidential candidate if anura kumara dissanayake is intimidating the tamils in the north on how they should vote wonder what he would do if elected president strange tone from man who said he wants to wipe out racism\",\"pred_label\":\"\"}]\n",
      "  ```\n",
      "  ####\n",
      "  [{\"clean_tweets\":\"so jvp pm is gona be tilvin what disaster it will be hadunethi as finance minister who thinks cuba is great and now this guy as pm think twice chaps sajithpremadasa has the ground support and the best team don break the vote and complain later srilanka lka\",\"label\":0},{\"clean_tweets\":\"anura kumara dissanayake in london expressed regret over the killings for which jvp was responsible sunday observer 1 jun 2014 the jvp which has notorious track record killed more buddhist monks than the ltte in 1989 it killed 24 senior monks daily mirror 28 feb 2024\",\"label\":0},{\"clean_tweets\":\"ak dissanayake npp is projected to win the upcoming election\",\"label\":1},{\"clean_tweets\":\"for anyone new to srilanka politics and interested in knowing more about the leading presidential candidates sarojpathi profile of the jvp and npp leader anura kumara dissanayake is an excellent resource\",\"label\":1}]\n",
      "  ####\n",
      "  \n"
     ]
    }
   ],
   "source": [
    "train_sample = train_set.sample(4)\n",
    "\n",
    "batch_count = len(batches)\n",
    "responses = []\n",
    "\n",
    "for i in range(0,len(batches)):\n",
    "  responses.append(gpt_completion_function(batches[i],i,batch_count,train_sample))"
   ]
  },
  {
   "cell_type": "code",
   "execution_count": 36,
   "id": "28a87ac9-c5b5-466f-84d2-eb33e6858764",
   "metadata": {
    "tags": []
   },
   "outputs": [
    {
     "name": "stdout",
     "output_type": "stream",
     "text": [
      "                                         clean_tweets  pred_label\n",
      "0   anura kumara dissanayake backed up from china ...           0\n",
      "1   anura kumara dissanayake in london expressed r...           0\n",
      "2   voting rw means letting sp win it simple as th...           1\n",
      "3   so jvp pm is gona be tilvin what disaster it w...           0\n",
      "4   anura kumara dissanayake wasantha samarasinghe...           0\n",
      "5   we ve had our fair share of debates and argume...           0\n",
      "6   compared to sjbs economy policy surely npp doe...           0\n",
      "7   ak dissanayake npp is projected to win the upc...           1\n",
      "8   the jvp including anura kumara dissanayake res...           0\n",
      "9   we had good past don get fooled by akd words h...           0\n",
      "10  would like to ask anura kumara dissanayake who...           0\n",
      "11  for anyone new to srilanka politics and intere...           1\n",
      "12  big shifts in voting intent in the first half ...           0\n",
      "13  npp government is ready to bring in foreign in...           1\n",
      "14  as presidential candidate if anura kumara diss...           0\n"
     ]
    }
   ],
   "source": [
    "import json\n",
    "\n",
    "df_total = pd.DataFrame()  # Initialize an empty DataFrame\n",
    "\n",
    "for response in responses:\n",
    "  # Clean the data by stripping the backticks\n",
    "  json_data = response.strip(\"`\")\n",
    "\n",
    "  # Load the cleaned data and convert to DataFrame\n",
    "  data = json.loads(json_data)\n",
    "  df_temp = pd.DataFrame(data)\n",
    "\n",
    "  # Append the DataFrame to the final DataFrame\n",
    "  df_total = pd.concat([df_total, df_temp], ignore_index=True)\n",
    "\n",
    "print(df_total)  # Display the final DataFrame"
   ]
  },
  {
   "cell_type": "code",
   "execution_count": 37,
   "id": "87e84411-52d9-4aa8-9738-957cf064a799",
   "metadata": {
    "tags": []
   },
   "outputs": [
    {
     "data": {
      "text/html": [
       "<div>\n",
       "<style scoped>\n",
       "    .dataframe tbody tr th:only-of-type {\n",
       "        vertical-align: middle;\n",
       "    }\n",
       "\n",
       "    .dataframe tbody tr th {\n",
       "        vertical-align: top;\n",
       "    }\n",
       "\n",
       "    .dataframe thead th {\n",
       "        text-align: right;\n",
       "    }\n",
       "</style>\n",
       "<table border=\"1\" class=\"dataframe\">\n",
       "  <thead>\n",
       "    <tr style=\"text-align: right;\">\n",
       "      <th></th>\n",
       "      <th>tweet</th>\n",
       "      <th>label</th>\n",
       "      <th>clean_tweets</th>\n",
       "      <th>pred_label</th>\n",
       "    </tr>\n",
       "  </thead>\n",
       "  <tbody>\n",
       "    <tr>\n",
       "      <th>0</th>\n",
       "      <td>Anura kumara dissanayake backed up from #China...</td>\n",
       "      <td>1</td>\n",
       "      <td>anura kumara dissanayake backed up from china ...</td>\n",
       "      <td>0</td>\n",
       "    </tr>\n",
       "    <tr>\n",
       "      <th>1</th>\n",
       "      <td>Anura Kumara Dissanayake in London expressed r...</td>\n",
       "      <td>0</td>\n",
       "      <td>anura kumara dissanayake in london expressed r...</td>\n",
       "      <td>0</td>\n",
       "    </tr>\n",
       "    <tr>\n",
       "      <th>2</th>\n",
       "      <td>Voting RW means letting SP win, it’s simple as...</td>\n",
       "      <td>1</td>\n",
       "      <td>voting rw means letting sp win it simple as th...</td>\n",
       "      <td>1</td>\n",
       "    </tr>\n",
       "    <tr>\n",
       "      <th>3</th>\n",
       "      <td>So JVP PM is Gona be tilvin? What a disaster i...</td>\n",
       "      <td>0</td>\n",
       "      <td>so jvp pm is gona be tilvin what disaster it w...</td>\n",
       "      <td>0</td>\n",
       "    </tr>\n",
       "    <tr>\n",
       "      <th>4</th>\n",
       "      <td>Anura Kumara Dissanayake, Wasantha Samarasingh...</td>\n",
       "      <td>0</td>\n",
       "      <td>anura kumara dissanayake wasantha samarasinghe...</td>\n",
       "      <td>0</td>\n",
       "    </tr>\n",
       "    <tr>\n",
       "      <th>5</th>\n",
       "      <td>We’ve had our fair share of debates and argume...</td>\n",
       "      <td>0</td>\n",
       "      <td>we ve had our fair share of debates and argume...</td>\n",
       "      <td>0</td>\n",
       "    </tr>\n",
       "    <tr>\n",
       "      <th>6</th>\n",
       "      <td>Compared to SJBs economy policy surely NPP doe...</td>\n",
       "      <td>0</td>\n",
       "      <td>compared to sjbs economy policy surely npp doe...</td>\n",
       "      <td>0</td>\n",
       "    </tr>\n",
       "    <tr>\n",
       "      <th>7</th>\n",
       "      <td>AK Dissanayake (NPP) is projected to win the u...</td>\n",
       "      <td>1</td>\n",
       "      <td>ak dissanayake npp is projected to win the upc...</td>\n",
       "      <td>1</td>\n",
       "    </tr>\n",
       "    <tr>\n",
       "      <th>8</th>\n",
       "      <td>The JVP, including Anura Kumara Dissanayake, r...</td>\n",
       "      <td>0</td>\n",
       "      <td>the jvp including anura kumara dissanayake res...</td>\n",
       "      <td>0</td>\n",
       "    </tr>\n",
       "    <tr>\n",
       "      <th>9</th>\n",
       "      <td>We had a good past.\\nDon't get fooled by AKD's...</td>\n",
       "      <td>0</td>\n",
       "      <td>we had good past don get fooled by akd words h...</td>\n",
       "      <td>0</td>\n",
       "    </tr>\n",
       "    <tr>\n",
       "      <th>10</th>\n",
       "      <td>“I would like to ask Anura Kumara Dissanayake,...</td>\n",
       "      <td>0</td>\n",
       "      <td>would like to ask anura kumara dissanayake who...</td>\n",
       "      <td>0</td>\n",
       "    </tr>\n",
       "    <tr>\n",
       "      <th>11</th>\n",
       "      <td>For anyone new to #SriLanka politics and inter...</td>\n",
       "      <td>1</td>\n",
       "      <td>for anyone new to srilanka politics and intere...</td>\n",
       "      <td>1</td>\n",
       "    </tr>\n",
       "    <tr>\n",
       "      <th>12</th>\n",
       "      <td>Big shifts in voting intent in the first half ...</td>\n",
       "      <td>0</td>\n",
       "      <td>big shifts in voting intent in the first half ...</td>\n",
       "      <td>0</td>\n",
       "    </tr>\n",
       "    <tr>\n",
       "      <th>13</th>\n",
       "      <td>NPP government is ready to bring in a foreign ...</td>\n",
       "      <td>1</td>\n",
       "      <td>npp government is ready to bring in foreign in...</td>\n",
       "      <td>1</td>\n",
       "    </tr>\n",
       "    <tr>\n",
       "      <th>14</th>\n",
       "      <td>As a presidential candidate, if Anura Kumara D...</td>\n",
       "      <td>0</td>\n",
       "      <td>as presidential candidate if anura kumara diss...</td>\n",
       "      <td>0</td>\n",
       "    </tr>\n",
       "  </tbody>\n",
       "</table>\n",
       "</div>"
      ],
      "text/plain": [
       "                                                tweet  label  \\\n",
       "0   Anura kumara dissanayake backed up from #China...      1   \n",
       "1   Anura Kumara Dissanayake in London expressed r...      0   \n",
       "2   Voting RW means letting SP win, it’s simple as...      1   \n",
       "3   So JVP PM is Gona be tilvin? What a disaster i...      0   \n",
       "4   Anura Kumara Dissanayake, Wasantha Samarasingh...      0   \n",
       "5   We’ve had our fair share of debates and argume...      0   \n",
       "6   Compared to SJBs economy policy surely NPP doe...      0   \n",
       "7   AK Dissanayake (NPP) is projected to win the u...      1   \n",
       "8   The JVP, including Anura Kumara Dissanayake, r...      0   \n",
       "9   We had a good past.\\nDon't get fooled by AKD's...      0   \n",
       "10  “I would like to ask Anura Kumara Dissanayake,...      0   \n",
       "11  For anyone new to #SriLanka politics and inter...      1   \n",
       "12  Big shifts in voting intent in the first half ...      0   \n",
       "13  NPP government is ready to bring in a foreign ...      1   \n",
       "14  As a presidential candidate, if Anura Kumara D...      0   \n",
       "\n",
       "                                         clean_tweets  pred_label  \n",
       "0   anura kumara dissanayake backed up from china ...           0  \n",
       "1   anura kumara dissanayake in london expressed r...           0  \n",
       "2   voting rw means letting sp win it simple as th...           1  \n",
       "3   so jvp pm is gona be tilvin what disaster it w...           0  \n",
       "4   anura kumara dissanayake wasantha samarasinghe...           0  \n",
       "5   we ve had our fair share of debates and argume...           0  \n",
       "6   compared to sjbs economy policy surely npp doe...           0  \n",
       "7   ak dissanayake npp is projected to win the upc...           1  \n",
       "8   the jvp including anura kumara dissanayake res...           0  \n",
       "9   we had good past don get fooled by akd words h...           0  \n",
       "10  would like to ask anura kumara dissanayake who...           0  \n",
       "11  for anyone new to srilanka politics and intere...           1  \n",
       "12  big shifts in voting intent in the first half ...           0  \n",
       "13  npp government is ready to bring in foreign in...           1  \n",
       "14  as presidential candidate if anura kumara diss...           0  "
      ]
     },
     "execution_count": 37,
     "metadata": {},
     "output_type": "execute_result"
    }
   ],
   "source": [
    "# Overwrite pred_label from 'df' into pred_label in 'train_set_sample'\n",
    "\n",
    "test_set_total['pred_label'] = df_total['pred_label'].values\n",
    "test_set_total"
   ]
  },
  {
   "cell_type": "code",
   "execution_count": 38,
   "id": "99d995ac-efd2-4465-989e-458b9591bd1f",
   "metadata": {
    "tags": []
   },
   "outputs": [
    {
     "name": "stdout",
     "output_type": "stream",
     "text": [
      "[[10  0]\n",
      " [ 1  4]]\n",
      "\n",
      "Accuracy: 0.9333333333333333\n"
     ]
    }
   ],
   "source": [
    "# Plotting confusion matrix on the predictions\n",
    "\n",
    "from sklearn.metrics import confusion_matrix, accuracy_score\n",
    "\n",
    "y_true = test_set_total[\"label\"]\n",
    "y_pred = test_set_total[\"pred_label\"]\n",
    "\n",
    "print(confusion_matrix(y_true, y_pred))\n",
    "print(f\"\\nAccuracy: {accuracy_score(y_true, y_pred)}\")"
   ]
  },
  {
   "cell_type": "markdown",
   "id": "d38f0f94-93f6-4298-9ced-167d5a1b01e5",
   "metadata": {},
   "source": [
    "Here atleaset for our small dataset we can't see any significant difference in accuracies but as the few shot prompting is more versatilwe were proceeding with that approach"
   ]
  },
  {
   "cell_type": "code",
   "execution_count": 39,
   "id": "96530b44-f723-46fe-a0c4-6a9839b4a736",
   "metadata": {
    "tags": []
   },
   "outputs": [
    {
     "data": {
      "image/png": "[encoded data removed]",
      "text/plain": [
       "<Figure size 600x600 with 2 Axes>"
      ]
     },
     "metadata": {},
     "output_type": "display_data"
    }
   ],
   "source": [
    "import matplotlib.pyplot as plt\n",
    "import seaborn as sns\n",
    "\n",
    "cm = confusion_matrix(y_true, y_pred)\n",
    "plt.figure(figsize=(6,6))\n",
    "sns.heatmap(cm, annot=True, fmt='d', cmap='Blues', xticklabels=['Negative', 'Positive'], yticklabels=['Negative', 'Positive'])\n",
    "plt.xlabel('Predicted')\n",
    "plt.ylabel('True')\n",
    "plt.title('Confusion Matrix')\n",
    "plt.show()"
   ]
  },
  {
   "cell_type": "code",
   "execution_count": null,
   "id": "23e3db76-c72b-4efc-b021-1bccf3832c76",
   "metadata": {},
   "outputs": [],
   "source": []
  }
 ],
 "metadata": {
  "kernelspec": {
   "display_name": "Python 3 (ipykernel)",
   "language": "python",
   "name": "python3"
  },
  "language_info": {
   "codemirror_mode": {
    "name": "ipython",
    "version": 3
   },
   "file_extension": ".py",
   "mimetype": "text/x-python",
   "name": "python",
   "nbconvert_exporter": "python",
   "pygments_lexer": "ipython3",
   "version": "3.11.5"
  }
 },
 "nbformat": 4,
 "nbformat_minor": 5
}
